{
  "cells": [
    {
      "cell_type": "markdown",
      "metadata": {
        "id": "nWuxMG_HQUVY"
      },
      "source": [
        "<img alt=\"Colaboratory logo\" width=\"15%\" src=\"https://raw.githubusercontent.com/carlosfab/escola-data-science/master/img/novo_logo_bg_claro.png\">\n",
        "\n",
        "#### **Data Science na Prática**\n",
        "*by [sigmoidal.ai](https://sigmoidal.ai)*\n",
        "\n",
        "---"
      ]
    },
    {
      "cell_type": "markdown",
      "metadata": {
        "id": "B3tMDtOf-XR-"
      },
      "source": [
        "# Como avaliar um modelo de *Machine Learning*\n",
        "\n",
        "Beleza, você construiu seu modelo de *Machine Learning*, após várias horas fazendo uma análise exploratória e limpando os dados, treinou ele em cima do seu conjunto de dados e obteve os coeficientes \"ideais\". Qual o próximo passo?\n",
        "\n",
        "> \"Você não controla aquilo que não consegue mensurar\"\n",
        "\n",
        "Trabalhei durante 1 ano no Centro de Operações Aeroespaciais (COMAE), analisando dados da cadeia de Comando e Controle (C2) da Força Aérea, e essa foi uma das frases que eu mais escutei por lá.\n",
        "\n",
        "<center><img width=\"50%\" src=\"https://images.unsplash.com/photo-1501516069922-a9982bd6f3bd?ixid=MnwxMjA3fDB8MHxwaG90by1wYWdlfHx8fGVufDB8fHx8&ixlib=rb-1.2.1&auto=format&fit=crop&w=1050&q=80\"></center>\n",
        "\n",
        "Na verdade, medir resultados e monitorar indicadores não é algo exclusivo de sistemas militares, mas é uma tarefa obrigatória em qualquer atividade, ainda mais em modelos de Inteligência Artificial.\n",
        "\n",
        "Se você não sabe como o seu algoritmo está performando, pode acabar compromentendo o faturamento de uma empresa ou até mesmo a imagem dela.\n",
        "\n",
        "Existem inúmeras metodologias, métricas e pesquisas sobre esta etapa de avaliação. A cada dia, a fronteira da ciência avança um passo. O que era o *estado da arte* ontem, provavelmente não mais será em um mês.\n",
        "\n",
        "Quero trazer aqui uma visão geral daquelas métricas mais conhecidas e usadas pela comunidade.\n"
      ]
    },
    {
      "cell_type": "markdown",
      "metadata": {
        "id": "J0t_VR8iAuZl"
      },
      "source": [
        "## Avaliando Modelos de Regressão\n",
        "\n",
        "Modelos de Regressão buscam prever um valor numérico contínuo. Por exemplo, qual o preço de venda de um imóvel ou qual o faturamento esperado para o próximo mês.\n",
        "\n",
        "Quando estamos usando o *dataset* de teste, fazemos a previsão $\\hat{y}_i$ para a $i\\text{-ésima}$ linha, uma vez que também temos o valor real $y_i$, podemos calcular esse erro de diferentes formas.\n",
        "\n",
        "<center><img width=\"50%\" src=\"https://raw.githubusercontent.com/carlosfab/dsnp2/master/img/regressao_loss.png\"></center>\n",
        "\n",
        "Na imagem acima, considere que a reta representa o seu modelo de regressão, ou seja, a própria previsão. Cada seta (vetor) representa a diferença entre o valor real e a previsão.\n",
        "\n",
        "Em outras palavras, cada seta representa o quanto você errou naquela previsão específica. Se você medir todas as distâncias entre os pontos e a reta (que é o seu modelo), você vai ter o seu erro, ou ***loss***.\n",
        "\n",
        "No exemplo dessa figura, fica bem claro que o modelo do plot da esquerda \"erra\" bem mais que o plot do modelo da direita. Ou seja, o modelo da direita é melhor.\n",
        "\n",
        "Na verdade, existem diversas métricas que podem ser utilizadas para verificar o desempenho do seu modelo. Vamos dar uma olhadas nas principais.\n",
        "\n",
        "### *Mean Absolut Error* - MAE\n",
        "\n",
        "É o mais simples de todos, onde se calcula a média da magnitude do erro para todos os pontos onde realizamos previsões, sem considerar a direção.\n",
        "\n",
        "$$MAE = \\frac{1}{m}\\sum_{i=1}^{n}|y_i - \\hat{y}_i|$$\n",
        "\n",
        "É a mais intuitiva de todas as métricas, pois olhamos a diferença absoluta entre a previsão e o real.\n",
        "\n",
        "O problema com o MAE é que todos os erros individuais são tratados da mesma maneira, o que pode ser um problema para lidar com outliers.\n",
        "\n",
        "### *Mean Squared Error* - MSE\n",
        "\n",
        "O MSE calcula a média dos erros elevados à segunda potência.\n",
        "\n",
        "$$MSE = \\frac{1}{m}\\sum_{i=1}^{m}(y_i - \\hat{y}_i)^2$$\n",
        "\n",
        "A vantagem é que os erros mais grotescos serão mais penalizados que aqueles menores, o que implica que diferenças menores terão menos impacto na avaliação.\n",
        "\n",
        "Pode haver uma dificuldade na sua interpretação, uma vez que a unidade de medida será alterara.\n",
        "\n",
        "### *Root Mean Squared Error* - RMSE\n",
        "\n",
        "Calcular a raiz quadrada da média dos quadrados dos erros faz com que a RMSE penalize os maiores erros, sendo mais sensível aos outliers.\n",
        "\n",
        "$$RMSE = \\sqrt{\\frac{1}{m}\\sum_{i=1}^{m}(y_i - \\hat{y}_i)^2}$$\n",
        "\n",
        "Note que as diferenças são elevadas ao quadrado antes que sua média seja calculada.\n",
        "\n",
        "Essa métrica é muito desejada em situações onde desejamos que grandes erros sejam evitados ao máximo.\n",
        "\n",
        "### *R-Squared* - $R^2$\n",
        "\n",
        "Apesar do R-Squared não se tratar de *erros*, propriamente, é bastante popular para verificar a acurácia de modelos de regressão.\n",
        "\n",
        "$$R^2 = 1 - \\frac{\\sum_{j=1}^{m}(y_i - \\hat{y}_i)^2}{\\sum_{j=1}^{m}(y_i - \\bar{y}_i)^2}$$\n",
        "\n",
        "Você pode entender a métrica como sendo \"quão bom o seu modelo está próximo dos valores reais\", e ele faz isso calculando as variâncias em relação à media e à reta.\n"
      ]
    },
    {
      "cell_type": "markdown",
      "metadata": {
        "id": "CrZrhAq3Fjpp"
      },
      "source": [
        "## Avaliando Modelos de Classificação\n",
        "\n",
        "Como se avalia um modelo de classificação?\n",
        "\n",
        "Seja trabalhando com classificação binária ou com diversas classes, as métricas relacionadas a modelos de classificação não podem ser os mesmos que usamos em modelos de regressão.\n",
        "\n",
        "\n",
        "### Acurácia\n",
        "\n",
        "Definitivamente, é a métrica mais intuitiva e fácil para se entender. A acurácia mostra diretamente a porcentagem de acertos do nosso modelo.\n",
        "\n",
        "$$\n",
        "\\text{Acurácia} = \\frac{\\text{Número de previsões corretas}}{\\text{Número total de previsões}}\n",
        "$$\n",
        "\n",
        "Apesar de ser muito direta e intuitiva, a acurácia não é uma boa métrica quando você lida, por exemplo, com dados desbalanceados.\n",
        "\n",
        "Em um *dataset* de fraudes bancárias, o número de eventos classificados como fraude pode ser inferior a 1%. Ou seja, a acurácia do modelo será superior para os casos de não-fraude e não retratará bem a natureza do nosso problema.\n",
        "\n",
        "Nesse exemplo de fraude bancária, o banco irá preferir uma acurácia máxima na detecção de casos confirmados de fraudes, mesmo que tenha diminuir a acurácia global - e ter um número maior de alarmes falsos.\n",
        "\n",
        "Veja um exemplo do curso Machine Learning Crash Course do Google. Nele, pode-se ver com que olhar simplesmente a acurácia pode levar a conclusões erradas. Abaixo, estamos olhando os resultados de um modelo para detecção de tumores malignos.\n",
        "\n",
        "<center><img alt=\"Colaboratory logo\" width=\"50%\" src=\"https://raw.githubusercontent.com/carlosfab/dsnp2/master/img/acuracia.png\"></center>\n",
        "\n",
        "Uma acurácia de 91% pode levar a uma interpretação equivocada, pois o modelo conseguiu detectar corretamente apenas 1 dos 9 tumores malignos. Para casos como esses, de dados desbalanceados, o ideal é separar os erros em diferentes tipos, e não apenas usar uma métrica global de acurácia.\n",
        "\n",
        "**Tipos de erros**\n",
        "\n",
        "* **Verdadeiro positivo (*true positive* — TP):** Por exemplo, quando o paciente tem tumor maligno e o modelo classifica como tendo tumor maligno.\n",
        "\n",
        "* **Falso positivo (*false positive* — FP):** Por exemplo, quando o paciente não tem tumor maligno e o modelo classifica como tendo tumor maligno.\n",
        "\n",
        "* **Falso negativo (*true negative* — TN)**: Por exemplo, quando o paciente tem tumor maligno e o modelo classifica como não tendo tumor maligno.\n",
        "\n",
        "* **Verdadeiro negativo (*false negative* — FN):** Por exemplo, quando o paciente não tem tumor maligno e o modelo classifica como não tendo tumor maligno.\n",
        "\n",
        "Com esses conceitos, vamos dar uma olhada em duas outras métricas.\n",
        "\n",
        "### Precision\n",
        "\n",
        "A precisão diz respeito à quantidade (proporcional) de identificações positivas feita corretamente, e é obtida pela equação\n",
        "\n",
        "$$\n",
        "\\frac{TP}{TP+FP}\n",
        "$$\n",
        "\n",
        "Ela responde **\"qual a proporção de identificações positivas que estava correta?\"** Esse valor será máximo (1.0) quando não produzir falsos negativos.\n",
        "\n",
        "No exemplo do tumor maligno, a precisão seria 50%, o que significa que quando o modelo prevê um tumor maligno, está correto metado das vezes.\n",
        "\n",
        "### *Recall*\n",
        "\n",
        "Mostra a proporção de positivos encontrados corretamente. Matematicamente, você calcular o *recall* da seguinte maneira:\n",
        "\n",
        "$$\n",
        "\\frac{TP}{TP+FN}\n",
        "$$\n",
        "\n",
        "No caso do tumor maligno, o recall teria um valor igual a 11%, o que significa que o modelo é capaz de prever corretamente apenas 11% de todos os tumores malignos."
      ]
    },
    {
      "cell_type": "markdown",
      "metadata": {
        "id": "jlrR-rNWGuCY"
      },
      "source": [
        "### *F1-score*\n",
        "\n",
        "É a média harmonica entre precisão e *recall*. O melhor valor possível para 0 *F1-score* é 1 e o pior é 0. É calculado por\n",
        "\n",
        "$$\n",
        "2* \\frac{precision*recall}{precision+recall}\n",
        "$$"
      ]
    },
    {
      "cell_type": "markdown",
      "metadata": {
        "id": "QWkVEK1TNTpE"
      },
      "source": [
        "### Matriz de Confusão\n",
        "\n",
        "Uma das principais maneiras de você verificar o desempenho do seu algoritmo é por meio da Matriz de Confusão. Para cada classe, ela informa quais os valores reais (*actual*) e os valores previstos pelo modelo (*predicted*).\n",
        "\n",
        "Dessa maneira, é possível rapidamente identificar:\n",
        "\n",
        "<p align=center><img src=\"https://plat.ai/wp-content/uploads/Table1-2.png.\" width=\"80%\"></p>\n",
        "\n",
        "\n",
        "Desse sumário da matriz de confusão, conseguimos extrair várias informações importantes."
      ]
    },
    {
      "cell_type": "code",
      "execution_count": null,
      "metadata": {
        "colab": {
          "base_uri": "https://localhost:8080/",
          "height": 448
        },
        "id": "8WzzldUM7ONl",
        "outputId": "3e36b246-9afc-44b8-d522-7593d985afef"
      },
      "outputs": [
        {
          "data": {
            "image/png": "[encoded data removed]",
            "text/plain": [
              "<Figure size 640x480 with 1 Axes>"
            ]
          },
          "metadata": {},
          "output_type": "display_data"
        }
      ],
      "source": [
        "# problema binário de classificação\n",
        "from sklearn.metrics import confusion_matrix\n",
        "from sklearn.metrics import classification_report\n",
        "import matplotlib.pyplot as plt\n",
        "import seaborn as sns\n",
        "\n",
        "y_true = [0, 1, 0, 1, 0, 0, 1, 1, 1, 0, 1, 0, 1, 1, 0]\n",
        "y_pred = [0, 1, 0, 0, 0, 1, 1, 1, 0, 0, 1, 0, 1, 0, 0]\n",
        "\n",
        "mat = confusion_matrix(y_true, y_pred)\n",
        "sns.heatmap(mat, square=True, annot=True, cbar=False)\n",
        "plt.xlabel('Previsão do modelo')\n",
        "plt.ylabel('Valor verdadeiro');"
      ]
    },
    {
      "cell_type": "code",
      "execution_count": null,
      "metadata": {
        "colab": {
          "base_uri": "https://localhost:8080/",
          "height": 448
        },
        "id": "6NuzjiOUHxMK",
        "outputId": "8625b371-1cf3-4219-daee-67d3bace0fe9"
      },
      "outputs": [
        {
          "data": {
            "image/png": "[encoded data removed]",
            "text/plain": [
              "<Figure size 640x480 with 1 Axes>"
            ]
          },
          "metadata": {},
          "output_type": "display_data"
        }
      ],
      "source": [
        "# problema de classificação com múltiplas classes\n",
        "y_true = [\"cat\", \"ant\", \"cat\", \"cat\", \"ant\", \"bird\"]\n",
        "y_pred = [\"ant\", \"ant\", \"cat\", \"cat\", \"ant\", \"cat\"]\n",
        "\n",
        "mat = confusion_matrix(y_true, y_pred)\n",
        "sns.heatmap(mat, square=True, annot=True, cbar=False)\n",
        "plt.xlabel('Previsão do modelo')\n",
        "plt.ylabel('Valor verdadeiro');"
      ]
    },
    {
      "cell_type": "code",
      "execution_count": null,
      "metadata": {
        "colab": {
          "base_uri": "https://localhost:8080/"
        },
        "id": "8Wnh5ed0NYTu",
        "outputId": "45a834a3-4e39-44f5-c23b-1f7e3276be0c"
      },
      "outputs": [
        {
          "name": "stdout",
          "output_type": "stream",
          "text": [
            "              precision    recall  f1-score   support\n",
            "\n",
            "         ant       0.67      1.00      0.80         2\n",
            "        bird       0.00      0.00      0.00         1\n",
            "         cat       0.67      0.67      0.67         3\n",
            "\n",
            "    accuracy                           0.67         6\n",
            "   macro avg       0.44      0.56      0.49         6\n",
            "weighted avg       0.56      0.67      0.60         6\n",
            "\n"
          ]
        },
        {
          "name": "stderr",
          "output_type": "stream",
          "text": [
            "/usr/local/lib/python3.10/dist-packages/sklearn/metrics/_classification.py:1344: UndefinedMetricWarning: Precision and F-score are ill-defined and being set to 0.0 in labels with no predicted samples. Use `zero_division` parameter to control this behavior.\n",
            "  _warn_prf(average, modifier, msg_start, len(result))\n",
            "/usr/local/lib/python3.10/dist-packages/sklearn/metrics/_classification.py:1344: UndefinedMetricWarning: Precision and F-score are ill-defined and being set to 0.0 in labels with no predicted samples. Use `zero_division` parameter to control this behavior.\n",
            "  _warn_prf(average, modifier, msg_start, len(result))\n",
            "/usr/local/lib/python3.10/dist-packages/sklearn/metrics/_classification.py:1344: UndefinedMetricWarning: Precision and F-score are ill-defined and being set to 0.0 in labels with no predicted samples. Use `zero_division` parameter to control this behavior.\n",
            "  _warn_prf(average, modifier, msg_start, len(result))\n"
          ]
        }
      ],
      "source": [
        "# exemplo do classification Report\n",
        "print(classification_report(y_true, y_pred))"
      ]
    },
    {
      "cell_type": "code",
      "execution_count": null,
      "metadata": {
        "id": "k9Rm_XyWNrBj"
      },
      "outputs": [],
      "source": []
    }
  ],
  "metadata": {
    "colab": {
      "provenance": []
    },
    "kernelspec": {
      "display_name": "Python 3",
      "name": "python3"
    }
  },
  "nbformat": 4,
  "nbformat_minor": 0
}

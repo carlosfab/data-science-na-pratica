{
  "cells": [
    {
      "cell_type": "markdown",
      "metadata": {
        "id": "7lKoeGti8T4r"
      },
      "source": [
        "<img alt=\"Colaboratory logo\" width=\"15%\" src=\"https://raw.githubusercontent.com/carlosfab/escola-data-science/master/img/novo_logo_bg_claro.png\">\n",
        "\n",
        "#### **Data Science na Prática**\n",
        "*by [sigmoidal.ai](https://sigmoidal.ai)*\n",
        "\n",
        "---"
      ]
    },
    {
      "cell_type": "markdown",
      "metadata": {
        "id": "81XdDOLXem8n"
      },
      "source": [
        "# Regressão Logística\n",
        "\n",
        "No exemplo da Regressão Linear, queríamos inferir qual o preço de venda colocar em uma casa, dado um conjunto de *features*. Ou seja, queríamos fazer a previsão de um valor contínuo.\n",
        "\n",
        "Já a Regressão Logística serve para classificar algo dentro de um conjunto de categorias. Como exemplo, podemos pegar o *dataset* de pacientes com doenças cardiovasculares usado no módulo anterior.\n",
        "\n",
        "<p align=center><img src=\"https://1394217531-files.gitbook.io/~/files/v0/b/gitbook-legacy-files/o/assets%2F-LvBP1svpACTB1R1x_U4%2F-Lw70vAIGPfRR1AjprLi%2F-LwAVc1EdfmPMge5dlYC%2Fimage.png?alt=media&token=d72e3231-0d64-4bb7-9e4c-20577940763d\" width=\"60%\"></p>\n",
        "\n",
        "Na última linha, como faríamos para classificar o paciente como possuindo ou não uma doença cardíaca? A Regressão Linear não é adequada aqui, uma vez que trabalha com valores contínuos.\n",
        "\n",
        "A Regressão Logística é ideal nesse tipo de situação, de classificação, pois trabalha com probabilidades. No caso, após treinar o modelo conseguiríamos ver qual a probabilidade de um dado paciente possuir ou não algum problema no coração.\n",
        "\n",
        "<p align=center><img src=\"https://media5.datahacker.rs/2021/01/83.jpg\" width=\"50%\"></p>\n",
        "\n",
        "Pense na imagem acima como se o eixo-x fosse a idade de um paciente e o eixo y a probabilidade dele ter uma doença cardíaca.\n",
        "\n",
        "Como você vê, precisamos mapear valores para dentro de um range $[0,1]$. Para isso, usamos a função sigmóide,\n",
        "\n",
        "$$\n",
        "sigmoid(z) = \\frac{1}{1 + e^{-z}}\n",
        "$$\n",
        "\n",
        "onde $z= b + w_1x_1 + w_2x_2 + \\dots + w_mx_m$ é o *output* da camada linear de um modelo de regressão logística. A curva **sigmoidal** irá mapear esse valor (qualquer) para o itnervalo entre 0 e 1.\n",
        "\n",
        "Assim como na Regressão Linear nós tínhamos o erro quadrático (*squared loss*), a *loss function* para a Regressão Logística é representada po\n",
        "\n",
        "$$\n",
        "\\text{Log Loss} = \\sum_{(x, y) \\in D} -y\\log(\\hat{y}) - (1 -y)\\log(1-\\hat{y})\n",
        "$$"
      ]
    },
    {
      "cell_type": "markdown",
      "metadata": {
        "id": "Y4dTtCeXKlaC"
      },
      "source": [
        "## Regressão Logística no `scikit-learn`\n",
        "\n",
        "O conjunto de dados original, que foi adapatado neste *notebook*, foi coletado da ***Cleveland Clinic Foundation*** e se encontra disponível no conhecido [Repositório UCI *Machine Learning*](https://archive.ics.uci.edu/ml/datasets/heart+Disease).\n",
        "\n",
        "Diferentemente do arquivo `csv` que foi disponibilizado no Módulo 3, [neste link](http://dl.dropboxusercontent.com/s/6d91j46mkcdj4qv/heart-disease-clean.csv?dl=0) você encontra o arquivo com os dados já tratado. Para nossa variável alvo (*target*) você encontra as seguintes categorias:\n",
        "\n",
        "* `num` - diagnóstico de doença cardíaca (diagnóstico angiográfico)\n",
        "  * 0: não há doença cardíaca ( < 50% de estreitamento do diâmetro)\n",
        "  * 1: há doença cardíaca ( > 50% de estreitamento do diâmetro)\n",
        "\n"
      ]
    },
    {
      "cell_type": "code",
      "execution_count": null,
      "metadata": {
        "colab": {
          "base_uri": "https://localhost:8080/",
          "height": 234
        },
        "id": "YEDrcpEJen6R",
        "outputId": "c2cb2432-8277-4b36-fbd0-9837dcd49331"
      },
      "outputs": [
        {
          "name": "stdout",
          "output_type": "stream",
          "text": [
            "Tamanho de df: (303, 14)\n",
            "\n"
          ]
        },
        {
          "data": {
            "text/html": [
              "\n",
              "\n",
              "  <div id=\"df-7c6c5658-7942-4761-8f6c-8b276332a515\">\n",
              "    <div class=\"colab-df-container\">\n",
              "      <div>\n",
              "<style scoped>\n",
              "    .dataframe tbody tr th:only-of-type {\n",
              "        vertical-align: middle;\n",
              "    }\n",
              "\n",
              "    .dataframe tbody tr th {\n",
              "        vertical-align: top;\n",
              "    }\n",
              "\n",
              "    .dataframe thead th {\n",
              "        text-align: right;\n",
              "    }\n",
              "</style>\n",
              "<table border=\"1\" class=\"dataframe\">\n",
              "  <thead>\n",
              "    <tr style=\"text-align: right;\">\n",
              "      <th></th>\n",
              "      <th>age</th>\n",
              "      <th>sex</th>\n",
              "      <th>cp</th>\n",
              "      <th>trestbps</th>\n",
              "      <th>chol</th>\n",
              "      <th>fbs</th>\n",
              "      <th>restecg</th>\n",
              "      <th>thalach</th>\n",
              "      <th>exang</th>\n",
              "      <th>oldpeak</th>\n",
              "      <th>slope</th>\n",
              "      <th>ca</th>\n",
              "      <th>thal</th>\n",
              "      <th>num</th>\n",
              "    </tr>\n",
              "  </thead>\n",
              "  <tbody>\n",
              "    <tr>\n",
              "      <th>0</th>\n",
              "      <td>63.0</td>\n",
              "      <td>1.0</td>\n",
              "      <td>1.0</td>\n",
              "      <td>145.0</td>\n",
              "      <td>233.0</td>\n",
              "      <td>1.0</td>\n",
              "      <td>2.0</td>\n",
              "      <td>150.0</td>\n",
              "      <td>0.0</td>\n",
              "      <td>2.3</td>\n",
              "      <td>3.0</td>\n",
              "      <td>0.0</td>\n",
              "      <td>6.0</td>\n",
              "      <td>0</td>\n",
              "    </tr>\n",
              "    <tr>\n",
              "      <th>1</th>\n",
              "      <td>67.0</td>\n",
              "      <td>1.0</td>\n",
              "      <td>4.0</td>\n",
              "      <td>160.0</td>\n",
              "      <td>286.0</td>\n",
              "      <td>0.0</td>\n",
              "      <td>2.0</td>\n",
              "      <td>108.0</td>\n",
              "      <td>1.0</td>\n",
              "      <td>1.5</td>\n",
              "      <td>2.0</td>\n",
              "      <td>3.0</td>\n",
              "      <td>3.0</td>\n",
              "      <td>1</td>\n",
              "    </tr>\n",
              "    <tr>\n",
              "      <th>2</th>\n",
              "      <td>67.0</td>\n",
              "      <td>1.0</td>\n",
              "      <td>4.0</td>\n",
              "      <td>120.0</td>\n",
              "      <td>229.0</td>\n",
              "      <td>0.0</td>\n",
              "      <td>2.0</td>\n",
              "      <td>129.0</td>\n",
              "      <td>1.0</td>\n",
              "      <td>2.6</td>\n",
              "      <td>2.0</td>\n",
              "      <td>2.0</td>\n",
              "      <td>7.0</td>\n",
              "      <td>1</td>\n",
              "    </tr>\n",
              "    <tr>\n",
              "      <th>3</th>\n",
              "      <td>37.0</td>\n",
              "      <td>1.0</td>\n",
              "      <td>3.0</td>\n",
              "      <td>130.0</td>\n",
              "      <td>250.0</td>\n",
              "      <td>0.0</td>\n",
              "      <td>0.0</td>\n",
              "      <td>187.0</td>\n",
              "      <td>0.0</td>\n",
              "      <td>3.5</td>\n",
              "      <td>3.0</td>\n",
              "      <td>0.0</td>\n",
              "      <td>3.0</td>\n",
              "      <td>0</td>\n",
              "    </tr>\n",
              "    <tr>\n",
              "      <th>4</th>\n",
              "      <td>41.0</td>\n",
              "      <td>0.0</td>\n",
              "      <td>2.0</td>\n",
              "      <td>130.0</td>\n",
              "      <td>204.0</td>\n",
              "      <td>0.0</td>\n",
              "      <td>2.0</td>\n",
              "      <td>172.0</td>\n",
              "      <td>0.0</td>\n",
              "      <td>1.4</td>\n",
              "      <td>1.0</td>\n",
              "      <td>0.0</td>\n",
              "      <td>3.0</td>\n",
              "      <td>0</td>\n",
              "    </tr>\n",
              "  </tbody>\n",
              "</table>\n",
              "</div>\n",
              "      <button class=\"colab-df-convert\" onclick=\"convertToInteractive('df-7c6c5658-7942-4761-8f6c-8b276332a515')\"\n",
              "              title=\"Convert this dataframe to an interactive table.\"\n",
              "              style=\"display:none;\">\n",
              "\n",
              "  <svg xmlns=\"http://www.w3.org/2000/svg\" height=\"24px\"viewBox=\"0 0 24 24\"\n",
              "       width=\"24px\">\n",
              "    <path d=\"M0 0h24v24H0V0z\" fill=\"none\"/>\n",
              "    <path d=\"M18.56 5.44l.94 2.06.94-2.06 2.06-.94-2.06-.94-.94-2.06-.94 2.06-2.06.94zm-11 1L8.5 8.5l.94-2.06 2.06-.94-2.06-.94L8.5 2.5l-.94 2.06-2.06.94zm10 10l.94 2.06.94-2.06 2.06-.94-2.06-.94-.94-2.06-.94 2.06-2.06.94z\"/><path d=\"M17.41 7.96l-1.37-1.37c-.4-.4-.92-.59-1.43-.59-.52 0-1.04.2-1.43.59L10.3 9.45l-7.72 7.72c-.78.78-.78 2.05 0 2.83L4 21.41c.39.39.9.59 1.41.59.51 0 1.02-.2 1.41-.59l7.78-7.78 2.81-2.81c.8-.78.8-2.07 0-2.86zM5.41 20L4 18.59l7.72-7.72 1.47 1.35L5.41 20z\"/>\n",
              "  </svg>\n",
              "      </button>\n",
              "\n",
              "\n",
              "\n",
              "    <div id=\"df-05d0b88d-963b-4f4f-8183-2f5c952ccb77\">\n",
              "      <button class=\"colab-df-quickchart\" onclick=\"quickchart('df-05d0b88d-963b-4f4f-8183-2f5c952ccb77')\"\n",
              "              title=\"Suggest charts.\"\n",
              "              style=\"display:none;\">\n",
              "\n",
              "<svg xmlns=\"http://www.w3.org/2000/svg\" height=\"24px\"viewBox=\"0 0 24 24\"\n",
              "     width=\"24px\">\n",
              "    <g>\n",
              "        <path d=\"M19 3H5c-1.1 0-2 .9-2 2v14c0 1.1.9 2 2 2h14c1.1 0 2-.9 2-2V5c0-1.1-.9-2-2-2zM9 17H7v-7h2v7zm4 0h-2V7h2v10zm4 0h-2v-4h2v4z\"/>\n",
              "    </g>\n",
              "</svg>\n",
              "      </button>\n",
              "    </div>\n",
              "\n",
              "<style>\n",
              "  .colab-df-quickchart {\n",
              "    background-color: #E8F0FE;\n",
              "    border: none;\n",
              "    border-radius: 50%;\n",
              "    cursor: pointer;\n",
              "    display: none;\n",
              "    fill: #1967D2;\n",
              "    height: 32px;\n",
              "    padding: 0 0 0 0;\n",
              "    width: 32px;\n",
              "  }\n",
              "\n",
              "  .colab-df-quickchart:hover {\n",
              "    background-color: #E2EBFA;\n",
              "    box-shadow: 0px 1px 2px rgba(60, 64, 67, 0.3), 0px 1px 3px 1px rgba(60, 64, 67, 0.15);\n",
              "    fill: #174EA6;\n",
              "  }\n",
              "\n",
              "  [theme=dark] .colab-df-quickchart {\n",
              "    background-color: #3B4455;\n",
              "    fill: #D2E3FC;\n",
              "  }\n",
              "\n",
              "  [theme=dark] .colab-df-quickchart:hover {\n",
              "    background-color: #434B5C;\n",
              "    box-shadow: 0px 1px 3px 1px rgba(0, 0, 0, 0.15);\n",
              "    filter: drop-shadow(0px 1px 2px rgba(0, 0, 0, 0.3));\n",
              "    fill: #FFFFFF;\n",
              "  }\n",
              "</style>\n",
              "\n",
              "    <script>\n",
              "      async function quickchart(key) {\n",
              "        const containerElement = document.querySelector('#' + key);\n",
              "        const charts = await google.colab.kernel.invokeFunction(\n",
              "            'suggestCharts', [key], {});\n",
              "      }\n",
              "    </script>\n",
              "\n",
              "      <script>\n",
              "\n",
              "function displayQuickchartButton(domScope) {\n",
              "  let quickchartButtonEl =\n",
              "    domScope.querySelector('#df-05d0b88d-963b-4f4f-8183-2f5c952ccb77 button.colab-df-quickchart');\n",
              "  quickchartButtonEl.style.display =\n",
              "    google.colab.kernel.accessAllowed ? 'block' : 'none';\n",
              "}\n",
              "\n",
              "        displayQuickchartButton(document);\n",
              "      </script>\n",
              "      <style>\n",
              "    .colab-df-container {\n",
              "      display:flex;\n",
              "      flex-wrap:wrap;\n",
              "      gap: 12px;\n",
              "    }\n",
              "\n",
              "    .colab-df-convert {\n",
              "      background-color: #E8F0FE;\n",
              "      border: none;\n",
              "      border-radius: 50%;\n",
              "      cursor: pointer;\n",
              "      display: none;\n",
              "      fill: #1967D2;\n",
              "      height: 32px;\n",
              "      padding: 0 0 0 0;\n",
              "      width: 32px;\n",
              "    }\n",
              "\n",
              "    .colab-df-convert:hover {\n",
              "      background-color: #E2EBFA;\n",
              "      box-shadow: 0px 1px 2px rgba(60, 64, 67, 0.3), 0px 1px 3px 1px rgba(60, 64, 67, 0.15);\n",
              "      fill: #174EA6;\n",
              "    }\n",
              "\n",
              "    [theme=dark] .colab-df-convert {\n",
              "      background-color: #3B4455;\n",
              "      fill: #D2E3FC;\n",
              "    }\n",
              "\n",
              "    [theme=dark] .colab-df-convert:hover {\n",
              "      background-color: #434B5C;\n",
              "      box-shadow: 0px 1px 3px 1px rgba(0, 0, 0, 0.15);\n",
              "      filter: drop-shadow(0px 1px 2px rgba(0, 0, 0, 0.3));\n",
              "      fill: #FFFFFF;\n",
              "    }\n",
              "  </style>\n",
              "\n",
              "      <script>\n",
              "        const buttonEl =\n",
              "          document.querySelector('#df-7c6c5658-7942-4761-8f6c-8b276332a515 button.colab-df-convert');\n",
              "        buttonEl.style.display =\n",
              "          google.colab.kernel.accessAllowed ? 'block' : 'none';\n",
              "\n",
              "        async function convertToInteractive(key) {\n",
              "          const element = document.querySelector('#df-7c6c5658-7942-4761-8f6c-8b276332a515');\n",
              "          const dataTable =\n",
              "            await google.colab.kernel.invokeFunction('convertToInteractive',\n",
              "                                                     [key], {});\n",
              "          if (!dataTable) return;\n",
              "\n",
              "          const docLinkHtml = 'Like what you see? Visit the ' +\n",
              "            '<a target=\"_blank\" href=https://colab.research.google.com/notebooks/data_table.ipynb>data table notebook</a>'\n",
              "            + ' to learn more about interactive tables.';\n",
              "          element.innerHTML = '';\n",
              "          dataTable['output_type'] = 'display_data';\n",
              "          await google.colab.output.renderOutput(dataTable, element);\n",
              "          const docLink = document.createElement('div');\n",
              "          docLink.innerHTML = docLinkHtml;\n",
              "          element.appendChild(docLink);\n",
              "        }\n",
              "      </script>\n",
              "    </div>\n",
              "  </div>\n"
            ],
            "text/plain": [
              "    age  sex   cp  trestbps   chol  fbs  restecg  thalach  exang  oldpeak  \\\n",
              "0  63.0  1.0  1.0     145.0  233.0  1.0      2.0    150.0    0.0      2.3   \n",
              "1  67.0  1.0  4.0     160.0  286.0  0.0      2.0    108.0    1.0      1.5   \n",
              "2  67.0  1.0  4.0     120.0  229.0  0.0      2.0    129.0    1.0      2.6   \n",
              "3  37.0  1.0  3.0     130.0  250.0  0.0      0.0    187.0    0.0      3.5   \n",
              "4  41.0  0.0  2.0     130.0  204.0  0.0      2.0    172.0    0.0      1.4   \n",
              "\n",
              "   slope   ca  thal  num  \n",
              "0    3.0  0.0   6.0    0  \n",
              "1    2.0  3.0   3.0    1  \n",
              "2    2.0  2.0   7.0    1  \n",
              "3    3.0  0.0   3.0    0  \n",
              "4    1.0  0.0   3.0    0  "
            ]
          },
          "execution_count": 1,
          "metadata": {},
          "output_type": "execute_result"
        }
      ],
      "source": [
        "# importar os pacotes necessários\n",
        "import pandas as pd\n",
        "import matplotlib.pyplot as plt\n",
        "import seaborn as sns\n",
        "\n",
        "# configurar o notebook\n",
        "sns.set_style()\n",
        "\n",
        "# importar o arquivo\n",
        "df = pd.read_csv(\"http://dl.dropboxusercontent.com/s/6d91j46mkcdj4qv/heart-disease-clean.csv?dl=1\")\n",
        "\n",
        "# ver as primeiras entradas\n",
        "print(\"Tamanho de df: {}\\n\".format(df.shape))\n",
        "\n",
        "df.head()"
      ]
    },
    {
      "cell_type": "markdown",
      "metadata": {
        "id": "I2qTumIDWkUY"
      },
      "source": [
        "Repare em tudo que estamos importando na célula abaixo. Além de `LogisticRegression` estamos importando métricas totalmente diferentes daquelas que usamos para avaliar modelos de Regressão Linear, o que faz todo sentido.\n"
      ]
    },
    {
      "cell_type": "code",
      "execution_count": null,
      "metadata": {
        "id": "ALwopto2jzIy"
      },
      "outputs": [],
      "source": [
        "# importar scikit-learn para criar o modelo\n",
        "from sklearn.model_selection import train_test_split\n",
        "from sklearn.preprocessing import StandardScaler\n",
        "from sklearn.metrics import classification_report\n",
        "from sklearn.metrics import confusion_matrix"
      ]
    },
    {
      "cell_type": "markdown",
      "metadata": {
        "id": "gfDvG_h4XD8y"
      },
      "source": [
        "Nesta etapa, vamos dividir o *dataset* entre treino e teste, da mesma maneira que fizemos e sempre vamos fazer para outros modelos."
      ]
    },
    {
      "cell_type": "code",
      "execution_count": null,
      "metadata": {
        "id": "GC4kMvoCkOV2"
      },
      "outputs": [],
      "source": [
        "# 1. escolher e importar um modelo\n",
        "from sklearn.linear_model import LogisticRegression\n",
        "\n",
        "# 2. Instanciar e escolher os hyperparameters\n",
        "model = LogisticRegression()\n",
        "\n",
        "# 3. Separar os dados entre feature matrix e target vector\n",
        "X = df.drop('num', axis=1)\n",
        "y = df['num']\n",
        "\n",
        "# 3.1 Dividir o dataset entre treino e teste\n",
        "X_train, X_test, y_train, y_test = train_test_split(X, y)\n",
        "\n",
        "# 3.2 Padronizar os dados de treino\n",
        "scaler = StandardScaler().fit(X_train)\n",
        "X_train = scaler.transform(X_train)\n",
        "\n",
        "# 4. Fit do modelo (treinar)\n",
        "model.fit(X_train, y_train)\n",
        "\n",
        "# 5. Fazer previsões em cima de novos dados\n",
        "X_test = scaler.transform(X_test)  # padronizar os dados de teste\n",
        "y_pred = model.predict(X_test)"
      ]
    },
    {
      "cell_type": "markdown",
      "metadata": {
        "id": "EYJlsX5lZtpo"
      },
      "source": [
        "Antes de olhar as métricas de avaliação do modelo, vamos relembrar os conceitos:\n",
        "\n",
        "* **Verdadeiro positivo (*true positive* — TP):** Por exemplo, quando o paciente tem doença cardiovascular e o modelo classifica como tendo doença vascular.\n",
        "\n",
        "* **Falso positivo (*false positive* — FP):** Por exemplo, quando o paciente não tem doença cardiovascular e o modelo classifica como tendo doença vascular.\n",
        "\n",
        "* **Falso verdadeiro (*true negative* — TN)**: Por exemplo, quando o paciente tem doença cardiovascular e o modelo classifica como não tendo doença vascular.\n",
        "\n",
        "* **Verdadeiro negativo (*false negative* — FN):** Por exemplo, quando o paciente não tem doença cardiovascular e o modelo classifica como não tendo doença vascular."
      ]
    },
    {
      "cell_type": "code",
      "execution_count": null,
      "metadata": {
        "colab": {
          "base_uri": "https://localhost:8080/"
        },
        "id": "HzUWh_RVY0_6",
        "outputId": "14b40451-6a9a-490a-f353-b110356780bc"
      },
      "outputs": [
        {
          "name": "stdout",
          "output_type": "stream",
          "text": [
            "              precision    recall  f1-score   support\n",
            "\n",
            "           0       0.81      0.79      0.80        48\n",
            "           1       0.66      0.68      0.67        28\n",
            "\n",
            "    accuracy                           0.75        76\n",
            "   macro avg       0.73      0.74      0.73        76\n",
            "weighted avg       0.75      0.75      0.75        76\n",
            "\n"
          ]
        }
      ],
      "source": [
        "# imprimir relatório de classificação\n",
        "print(classification_report(y_test, y_pred))"
      ]
    },
    {
      "cell_type": "markdown",
      "metadata": {
        "id": "5imFWjv50p4W"
      },
      "source": [
        "Por fim, vamos plotar a matriz de confusão para ter, pictorialmente, uma visão do desempenho por classes."
      ]
    },
    {
      "cell_type": "code",
      "execution_count": null,
      "metadata": {
        "colab": {
          "base_uri": "https://localhost:8080/",
          "height": 471
        },
        "id": "ucNN3JQrESF3",
        "outputId": "a20d94f9-1c69-4155-f167-660acb9d35b6"
      },
      "outputs": [
        {
          "data": {
            "image/png": "[encoded data removed]",
            "text/plain": [
              "<Figure size 640x480 with 2 Axes>"
            ]
          },
          "metadata": {},
          "output_type": "display_data"
        }
      ],
      "source": [
        "fig, ax = plt.subplots()\n",
        "sns.heatmap(confusion_matrix(y_test, y_pred), annot=True, ax=ax)\n",
        "\n",
        "ax.set_title(\"Matriz de Confusão\")\n",
        "ax.set_ylabel(\"Verdadeiro\")\n",
        "ax.set_xlabel(\"Previsto\")\n",
        "\n",
        "plt.show()"
      ]
    },
    {
      "cell_type": "markdown",
      "metadata": {
        "id": "jWdZBkIa6PPt"
      },
      "source": [
        "Caso você queira ver as probabilidades associadas a cada previsão, pode utilizar o método `predict_proba` da seguinte maneira."
      ]
    },
    {
      "cell_type": "code",
      "execution_count": null,
      "metadata": {
        "colab": {
          "base_uri": "https://localhost:8080/"
        },
        "id": "qHild9NxZc_R",
        "outputId": "22f1fa37-3e4a-4da0-9157-2d6a74b70aa5"
      },
      "outputs": [
        {
          "name": "stdout",
          "output_type": "stream",
          "text": [
            "y_pred: \n",
            " [0 0 0 1 0]\n",
            "\n",
            "y_proba: \n",
            " [[0.98910255 0.01089745]\n",
            " [0.69230502 0.30769498]\n",
            " [0.96763029 0.03236971]\n",
            " [0.00167322 0.99832678]\n",
            " [0.98231219 0.01768781]]\n"
          ]
        }
      ],
      "source": [
        "# probabilidades em cima do dataset de teste\n",
        "y_prob = model.predict_proba(X_test)\n",
        "\n",
        "print(\"y_pred: \\n\", y_pred[0:5])\n",
        "print(\"\\ny_proba: \\n\", y_prob[0:5])"
      ]
    }
  ],
  "metadata": {
    "colab": {
      "provenance": []
    },
    "kernelspec": {
      "display_name": "Python 3",
      "name": "python3"
    }
  },
  "nbformat": 4,
  "nbformat_minor": 0
}

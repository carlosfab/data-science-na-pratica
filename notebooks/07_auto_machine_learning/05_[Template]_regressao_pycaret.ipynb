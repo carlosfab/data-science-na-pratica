{
  "cells": [
    {
      "cell_type": "markdown",
      "metadata": {
        "id": "EE9X48au6Mez"
      },
      "source": [
        "<img alt=\"Colaboratory logo\" width=\"15%\" src=\"https://raw.githubusercontent.com/carlosfab/escola-data-science/master/img/novo_logo_bg_claro.png\">\n",
        "\n",
        "#### **Data Science na Prática**\n",
        "\n",
        "\n",
        "---"
      ]
    },
    {
      "cell_type": "markdown",
      "metadata": {
        "id": "TLbRIt7ElMWx"
      },
      "source": [
        "# PROJETO REGRESSÃO\n",
        "\n",
        "Como falamos antes, nossos templates ficarão cada vez mais simples!!\n",
        "\n",
        "O objetivo deste projeto é desenvolver um projeto de Regressão para prever o custo do Seguro de Vida, com [esses dados do Kaggle](https://www.kaggle.com/annetxu/health-insurance-cost-prediction).\n",
        "\n",
        "Aqui, queremos, como sempre, trazer o máximo de autonomia e independência pra vocês. Façam o download, e disponibilizem os seus dados, carreguem eles aqui, e desenvolvam o projeto.\n",
        "\n",
        "## Objetivos\n",
        "\n",
        "* Adquirir e disponibilizar os dados\n",
        "* Análise completa dos dados e do problema (Na mão, ou com Pandas Profiling, SweetViz, etc)\n",
        "* Desenvolver uma solução de Machine Learning eficiente com PyCaret para Regressão\n",
        "\n",
        "LEMBREM-SE: Documentação, Storytelling, Artigo com Código!\n",
        "\n",
        "Mãos à obra e boa sorte!\n"
      ]
    },
    {
      "cell_type": "code",
      "execution_count": null,
      "metadata": {
        "id": "YJPmLSNMuqVa"
      },
      "outputs": [],
      "source": []
    }
  ],
  "metadata": {
    "colab": {
      "provenance": []
    },
    "kernelspec": {
      "display_name": "Python 3",
      "name": "python3"
    }
  },
  "nbformat": 4,
  "nbformat_minor": 0
}

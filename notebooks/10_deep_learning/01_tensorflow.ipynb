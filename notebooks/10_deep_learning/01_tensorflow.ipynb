{
  "cells": [
    {
      "cell_type": "markdown",
      "metadata": {
        "id": "unMyA8MD1b2Y"
      },
      "source": [
        "<img alt=\"Colaboratory logo\" width=\"15%\" src=\"https://raw.githubusercontent.com/carlosfab/escola-data-science/master/img/novo_logo_bg_claro.png\">\n",
        "\n",
        "#### **Data Science na Prática**\n",
        "*by [sigmoidal.ai](https://sigmoidal.ai)*\n",
        "\n",
        "---\n"
      ]
    },
    {
      "cell_type": "markdown",
      "metadata": {
        "id": "bqjlUbCzeUDi"
      },
      "source": [
        "# TensorFlow\n",
        "\n",
        "<p align=\"center\"><img src=\"https://www.ambientelivre.com.br/images/logos_open_source/tensorflow_logo.png\" width=\"80%\"></p>\n",
        "\n",
        "TensorFlow é uma plataforma open-source de machine learning, desenvolvida e mantida pelo Google (primariamente).\n",
        "\n",
        "Trabalhando com uma estrutura conhecida como Tensores, permite tanto pesquisadores, engenheiros e analistas criarem suas arquiteturas de deep learning."
      ]
    },
    {
      "cell_type": "markdown",
      "metadata": {
        "id": "DJLX_hGNe_nJ"
      },
      "source": [
        "## Exemplo de aplicação do Tensorflow\n",
        "\n",
        "***Fashion MNIST*** é um *dataset* considerado o *Hello, World!* de **Deep Learning** aplicado a problemas de **Visão Computacional**.\n",
        "\n",
        "Contendo 60 mil imagens para treinamento e 10 mil para teste, é um *dataset* bem melhor que o antigo **MNIST** (que continha apenas digitos manuscritos).\n",
        "\n",
        "<p align=\"center\"><img src=\"https://raw.githubusercontent.com/carlosfab/escola-data-science/master/img/fashion-mnist-sprite.png\" height=\"400px\"></p>\n",
        "\n",
        "Ao total, as 70 mil imagens têm dimensões de 28 x 28 *pixels*, como mostra a imagem acima. Cada uma dessas imagens é classificada com um desses 10 *labels*:\n",
        "\n",
        "<table>\n",
        "  <tbody><tr>\n",
        "    <th>Label</th>\n",
        "    <th>Class</th>\n",
        "  </tr>\n",
        "  <tr>\n",
        "    <td>0</td>\n",
        "    <td>T-shirt/top</td>\n",
        "  </tr>\n",
        "  <tr>\n",
        "    <td>1</td>\n",
        "    <td>Trouser</td>\n",
        "  </tr>\n",
        "    <tr>\n",
        "    <td>2</td>\n",
        "    <td>Pullover</td>\n",
        "  </tr>\n",
        "    <tr>\n",
        "    <td>3</td>\n",
        "    <td>Dress</td>\n",
        "  </tr>\n",
        "    <tr>\n",
        "    <td>4</td>\n",
        "    <td>Coat</td>\n",
        "  </tr>\n",
        "    <tr>\n",
        "    <td>5</td>\n",
        "    <td>Sandal</td>\n",
        "  </tr>\n",
        "    <tr>\n",
        "    <td>6</td>\n",
        "    <td>Shirt</td>\n",
        "  </tr>\n",
        "    <tr>\n",
        "    <td>7</td>\n",
        "    <td>Sneaker</td>\n",
        "  </tr>\n",
        "    <tr>\n",
        "    <td>8</td>\n",
        "    <td>Bag</td>\n",
        "  </tr>\n",
        "    <tr>\n",
        "    <td>9</td>\n",
        "    <td>Ankle boot</td>\n",
        "  </tr>\n",
        "</tbody></table>"
      ]
    },
    {
      "cell_type": "code",
      "execution_count": null,
      "metadata": {
        "id": "kX1Axbt3fkqI"
      },
      "outputs": [],
      "source": [
        "# importar as bibliotecas necessárias\n",
        "%tensorflow_version 2.x\n",
        "import tensorflow as tf\n",
        "from tensorflow import keras"
      ]
    },
    {
      "cell_type": "code",
      "execution_count": null,
      "metadata": {
        "colab": {
          "base_uri": "https://localhost:8080/",
          "height": 158
        },
        "id": "9VnUz1FFe0tW",
        "outputId": "1cdee7de-b7b6-44c3-a333-51560da12916"
      },
      "outputs": [
        {
          "name": "stdout",
          "output_type": "stream",
          "text": [
            "Downloading data from https://storage.googleapis.com/tensorflow/tf-keras-datasets/train-labels-idx1-ubyte.gz\n",
            "32768/29515 [=================================] - 0s 0us/step\n",
            "Downloading data from https://storage.googleapis.com/tensorflow/tf-keras-datasets/train-images-idx3-ubyte.gz\n",
            "26427392/26421880 [==============================] - 0s 0us/step\n",
            "Downloading data from https://storage.googleapis.com/tensorflow/tf-keras-datasets/t10k-labels-idx1-ubyte.gz\n",
            "8192/5148 [===============================================] - 0s 0us/step\n",
            "Downloading data from https://storage.googleapis.com/tensorflow/tf-keras-datasets/t10k-images-idx3-ubyte.gz\n",
            "4423680/4422102 [==============================] - 0s 0us/step\n"
          ]
        }
      ],
      "source": [
        "import matplotlib.pyplot as plt\n",
        "import pandas as pd\n",
        "import numpy as np\n",
        "\n",
        "# carregar os dados do Fashion MNIST\n",
        "(X_train_orig, y_train), (X_test, y_test) = keras.datasets.fashion_mnist.load_data()\n",
        "\n",
        "# padronizar o dataset de treino e criar um de validação\n",
        "X_valid, X_train = X_train_orig[:6000] / 255.0, X_train_orig[6000:] / 255.0\n",
        "y_valid, y_train = y_train[:6000], y_train[6000:]\n",
        "\n",
        "# De acordo com a documentação, os labels são:\n",
        "class_names = ['Camisetas/top', 'Calça', 'Suéter',\n",
        "               'Vestidos','Casaco', 'Sandálias',\n",
        "               'Camisas', 'Tênis', 'Bolsa', 'Botas']"
      ]
    },
    {
      "cell_type": "code",
      "execution_count": null,
      "metadata": {
        "colab": {
          "base_uri": "https://localhost:8080/",
          "height": 282
        },
        "id": "J2eTwcOQj1kr",
        "outputId": "73a91785-87f4-487e-be40-21abebdb2928"
      },
      "outputs": [
        {
          "name": "stdout",
          "output_type": "stream",
          "text": [
            "Camisas\n"
          ]
        },
        {
          "data": {
            "image/png": "[encoded data removed]",
            "text/plain": [
              "<Figure size 432x288 with 1 Axes>"
            ]
          },
          "metadata": {
            "needs_background": "light",
            "tags": []
          },
          "output_type": "display_data"
        }
      ],
      "source": [
        "# # ver exemplo de uma imagem aleatória\n",
        "print(class_names[y_train[1]])\n",
        "# plt.imshow(X_train_orig[1], cmap=plt.cm.binary);\n",
        "# plt.imshow(X_train_orig[1], cmap='gray');\n",
        "plt.imshow(X_train_orig[1], cmap='gray', interpolation=\"bicubic\");"
      ]
    },
    {
      "cell_type": "markdown",
      "metadata": {
        "id": "W0r7I3haf3m5"
      },
      "source": [
        "#### Criar, compilar e treinar um modelo"
      ]
    },
    {
      "cell_type": "code",
      "execution_count": null,
      "metadata": {
        "colab": {
          "base_uri": "https://localhost:8080/",
          "height": 372
        },
        "id": "jDFkhBM3e7S4",
        "outputId": "69f44a1b-98cc-4962-a947-b22b22500c93"
      },
      "outputs": [
        {
          "name": "stdout",
          "output_type": "stream",
          "text": [
            "Epoch 1/10\n",
            "1688/1688 [==============================] - 6s 3ms/step - loss: 1.1629 - accuracy: 0.6681 - val_loss: 0.7901 - val_accuracy: 0.7487\n",
            "Epoch 2/10\n",
            "1688/1688 [==============================] - 5s 3ms/step - loss: 0.7245 - accuracy: 0.7558 - val_loss: 0.6584 - val_accuracy: 0.7728\n",
            "Epoch 3/10\n",
            "1688/1688 [==============================] - 5s 3ms/step - loss: 0.6357 - accuracy: 0.7801 - val_loss: 0.6018 - val_accuracy: 0.7908\n",
            "Epoch 4/10\n",
            "1688/1688 [==============================] - 6s 3ms/step - loss: 0.5885 - accuracy: 0.7953 - val_loss: 0.5699 - val_accuracy: 0.8040\n",
            "Epoch 5/10\n",
            "1688/1688 [==============================] - 6s 4ms/step - loss: 0.5576 - accuracy: 0.8061 - val_loss: 0.5443 - val_accuracy: 0.8138\n",
            "Epoch 6/10\n",
            "1688/1688 [==============================] - 6s 3ms/step - loss: 0.5359 - accuracy: 0.8128 - val_loss: 0.5212 - val_accuracy: 0.8205\n",
            "Epoch 7/10\n",
            "1688/1688 [==============================] - 5s 3ms/step - loss: 0.5188 - accuracy: 0.8189 - val_loss: 0.5047 - val_accuracy: 0.8248\n",
            "Epoch 8/10\n",
            "1688/1688 [==============================] - 5s 3ms/step - loss: 0.5057 - accuracy: 0.8246 - val_loss: 0.4934 - val_accuracy: 0.8285\n",
            "Epoch 9/10\n",
            "1688/1688 [==============================] - 5s 3ms/step - loss: 0.4949 - accuracy: 0.8274 - val_loss: 0.4884 - val_accuracy: 0.8328\n",
            "Epoch 10/10\n",
            "1688/1688 [==============================] - 5s 3ms/step - loss: 0.4861 - accuracy: 0.8291 - val_loss: 0.4776 - val_accuracy: 0.8375\n"
          ]
        }
      ],
      "source": [
        "# criar o modelo\n",
        "model = keras.models.Sequential()\n",
        "model.add(keras.layers.Flatten(input_shape=(28,28)))\n",
        "model.add(keras.layers.Dense(784, activation='sigmoid'))\n",
        "model.add(keras.layers.Dense(10, activation='softmax'))\n",
        "\n",
        "# compilar o modelo\n",
        "model.compile(optimizer='sgd', loss='sparse_categorical_crossentropy',\n",
        "              metrics='accuracy')\n",
        "\n",
        "# treinar o modelo\n",
        "history = model.fit(X_train, y_train, epochs=10, validation_data=(X_valid, y_valid))"
      ]
    },
    {
      "cell_type": "markdown",
      "metadata": {
        "id": "UOUeWNn_gZOn"
      },
      "source": [
        "### Avaliar um modelo"
      ]
    },
    {
      "cell_type": "code",
      "execution_count": null,
      "metadata": {
        "colab": {
          "base_uri": "https://localhost:8080/",
          "height": 300
        },
        "id": "yBzlRs1Jgb6t",
        "outputId": "8be21df7-7909-4042-d22b-ad0a7c2968e2"
      },
      "outputs": [
        {
          "data": {
            "image/png": "[encoded data removed]",
            "text/plain": [
              "<Figure size 432x288 with 1 Axes>"
            ]
          },
          "metadata": {
            "needs_background": "light",
            "tags": []
          },
          "output_type": "display_data"
        },
        {
          "name": "stdout",
          "output_type": "stream",
          "text": [
            "313/313 [==============================] - 1s 3ms/step - loss: 1.7955 - accuracy: 0.7232\n",
            "[1.7954695224761963, 0.7232000231742859]\n"
          ]
        }
      ],
      "source": [
        "# plotar o histórico da otimização\n",
        "pd.DataFrame(history.history).plot()\n",
        "plt.show()\n",
        "\n",
        "# avaliar o modelo\n",
        "print(model.evaluate(X_test, y_test))"
      ]
    },
    {
      "cell_type": "markdown",
      "metadata": {
        "id": "In7pWLzNhLq8"
      },
      "source": [
        "## Modelos de Redes Neurais Convolucionais"
      ]
    },
    {
      "cell_type": "code",
      "execution_count": null,
      "metadata": {
        "id": "2d1RebvHgn0M"
      },
      "outputs": [],
      "source": [
        "# criar modelo de CNN\n",
        "model2 = keras.Sequential()\n",
        "\n",
        "# definir a arquitetura da rede neural\n",
        "model2.add(keras.layers.Conv2D(filters=64, kernel_size=2, padding='same', activation='relu', input_shape=(28,28,1)))\n",
        "model2.add(keras.layers.MaxPooling2D(pool_size=2))\n",
        "model2.add(keras.layers.Dropout(0.3))\n",
        "model2.add(keras.layers.Conv2D(filters=32, kernel_size=2, padding='same', activation='relu'))\n",
        "model2.add(keras.layers.MaxPooling2D(pool_size=2))\n",
        "model2.add(keras.layers.Dropout(0.3))\n",
        "model2.add(keras.layers.Flatten())\n",
        "model2.add(keras.layers.Dense(256, activation='relu'))\n",
        "model2.add(keras.layers.Dropout(0.5))\n",
        "model2.add(keras.layers.Dense(10, activation='softmax'))\n",
        "\n",
        "# Ver a aarquitetura do modelo 3\n",
        "model2.summary()"
      ]
    },
    {
      "cell_type": "code",
      "execution_count": null,
      "metadata": {
        "id": "4U7kMfwbg9ES"
      },
      "outputs": [],
      "source": []
    }
  ],
  "metadata": {
    "accelerator": "GPU",
    "colab": {
      "provenance": []
    },
    "kernelspec": {
      "display_name": "Python 3",
      "name": "python3"
    }
  },
  "nbformat": 4,
  "nbformat_minor": 0
}

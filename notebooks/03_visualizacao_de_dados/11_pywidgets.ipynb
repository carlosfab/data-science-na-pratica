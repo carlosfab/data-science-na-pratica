{
  "cells": [
    {
      "cell_type": "markdown",
      "metadata": {
        "id": "a7SHMHbKBkoQ"
      },
      "source": [
        "<img alt=\"Colaboratory logo\" width=\"15%\" src=\"https://raw.githubusercontent.com/carlosfab/escola-data-science/master/img/novo_logo_bg_claro.png\">\n",
        "\n",
        "#### **Data Science na Prática**\n",
        "*by [sigmoidal.ai](https://sigmoidal.ai)*\n",
        "\n",
        "---"
      ]
    },
    {
      "cell_type": "markdown",
      "metadata": {
        "id": "pqHp1Vk8Bpdy"
      },
      "source": [
        "Uma coisa muito interessante que podemos trazer para os nossos plots é a interatividade. Em muitos casos, ela pode ser essencial, e pode trazer resultados impressionantes para nosso projeto.\n",
        "\n",
        "Para isso, utilizaremos a biblioteca [ipywidgets](https://ipywidgets.readthedocs.io/en/latest/).\n",
        "\n",
        "\n",
        "O framework dos widgets é construído no *Comm Framework* (abreviação para comunicação, em inglês). O *Comm Framework* é um framework que permite que o kernel envie e receba mensagens em JSON do front end.\n",
        "\n",
        "<center><img src=\"https://ipywidgets.readthedocs.io/en/latest/_images/WidgetArch.png\" height=\"400px\"></center>\n",
        "\n",
        "A função `interact` (ipywidgets.interact) automaticamente cria uma interface de usuário com controles para explorar o código e os dados interativamente. Esse é o jeito mais fácil de começar widgets do IPython.\n",
        "\n",
        "No nível mais básico, o `interact` cria automaticamente um interface de usuário que controla os argumentos de uma função, e então chama a função com aqueles argumentos que você selecionou\u0010 através da UI.\n",
        "\n",
        "Portanto, para usar o `interact` você precisa definir uma função que queira explorar.\n",
        "\n",
        "<center><img src=\"https://ipywidgets.readthedocs.io/en/stable/_images/WidgetModelView.png\" height=\"400px\"></center>\n",
        "\n",
        "Para cada tipo de argumento passado para função, um tipo apropriado de widget é criado para fazer a interação, podendo ser um checkbox, slider, dropdown menu, etc.\n",
        "\n",
        "Vamos ver como isso funciona na prática."
      ]
    },
    {
      "cell_type": "code",
      "execution_count": null,
      "metadata": {
        "colab": {
          "base_uri": "https://localhost:8080/"
        },
        "id": "S8JpsMStZqV8",
        "outputId": "1b67e166-816f-4073-e3f8-8051b4b3cb70"
      },
      "outputs": [
        {
          "name": "stdout",
          "output_type": "stream",
          "text": [
            "\u001b[?25l     \u001b[90m━━━━━━━━━━━━━━━━━━━━━━━━━━━━━━━━━━━━━━━━\u001b[0m \u001b[32m0.0/1.6 MB\u001b[0m \u001b[31m?\u001b[0m eta \u001b[36m-:--:--\u001b[0m\r\u001b[2K     \u001b[91m━\u001b[0m\u001b[91m╸\u001b[0m\u001b[90m━━━━━━━━━━━━━━━━━━━━━━━━━━━━━━━━━━━━━━\u001b[0m \u001b[32m0.1/1.6 MB\u001b[0m \u001b[31m2.0 MB/s\u001b[0m eta \u001b[36m0:00:01\u001b[0m\r\u001b[2K     \u001b[91m━━━━━━━\u001b[0m\u001b[91m╸\u001b[0m\u001b[90m━━━━━━━━━━━━━━━━━━━━━━━━━━━━━━━━\u001b[0m \u001b[32m0.3/1.6 MB\u001b[0m \u001b[31m4.4 MB/s\u001b[0m eta \u001b[36m0:00:01\u001b[0m\r\u001b[2K     \u001b[91m━━━━━━━━━━━━━━━\u001b[0m\u001b[91m╸\u001b[0m\u001b[90m━━━━━━━━━━━━━━━━━━━━━━━━\u001b[0m \u001b[32m0.6/1.6 MB\u001b[0m \u001b[31m5.8 MB/s\u001b[0m eta \u001b[36m0:00:01\u001b[0m\r\u001b[2K     \u001b[91m━━━━━━━━━━━━━━━━━━━━━━━━\u001b[0m\u001b[91m╸\u001b[0m\u001b[90m━━━━━━━━━━━━━━━\u001b[0m \u001b[32m1.0/1.6 MB\u001b[0m \u001b[31m6.9 MB/s\u001b[0m eta \u001b[36m0:00:01\u001b[0m\r\u001b[2K     \u001b[91m━━━━━━━━━━━━━━━━━━━━━━━━━━━━━━━━━━━━\u001b[0m\u001b[90m╺\u001b[0m\u001b[90m━━━\u001b[0m \u001b[32m1.4/1.6 MB\u001b[0m \u001b[31m8.0 MB/s\u001b[0m eta \u001b[36m0:00:01\u001b[0m\r\u001b[2K     \u001b[90m━━━━━━━━━━━━━━━━━━━━━━━━━━━━━━━━━━━━━━━━\u001b[0m \u001b[32m1.6/1.6 MB\u001b[0m \u001b[31m7.6 MB/s\u001b[0m eta \u001b[36m0:00:00\u001b[0m\n",
            "\u001b[?25h"
          ]
        }
      ],
      "source": [
        "# instalando o pacote\n",
        "!pip install ipywidgets -q"
      ]
    },
    {
      "cell_type": "markdown",
      "metadata": {
        "id": "7cTfM0FnGNfw"
      },
      "source": [
        "A documentação instrui que o código abaixo seja utilizado para que essas interações estejam disponíveis em Jupyter Notebooks. Entretanto, no Colab isso não é necessário. Caso você vá realizar esse tipo de plot em um Noteb\u0010ook local, utilize a função abaixo, e tome por referência a documentação, em tudo que diferir de lá nesse notebook."
      ]
    },
    {
      "cell_type": "code",
      "execution_count": null,
      "metadata": {
        "id": "3nT3EFibZ1A3"
      },
      "outputs": [],
      "source": [
        "# jupyter nbextension enable --py widgetsnbextension"
      ]
    },
    {
      "cell_type": "markdown",
      "metadata": {
        "id": "UG1UmxnnGgYE"
      },
      "source": [
        "Uma vez instalados, precisamos importar os pacotes. Aqui, importaremos algumas funções específicas do pacote, e o pacote inteiro, para facilitar nosso código."
      ]
    },
    {
      "cell_type": "code",
      "execution_count": null,
      "metadata": {
        "id": "TQ-tvm4qZ7d3"
      },
      "outputs": [],
      "source": [
        "# importando os pacotes necessários\n",
        "import numpy as np\n",
        "import pandas as pd\n",
        "import matplotlib.pyplot as plt\n",
        "from ipywidgets import interact, fixed, interact_manual\n",
        "import ipywidgets as widgets"
      ]
    },
    {
      "cell_type": "markdown",
      "metadata": {
        "id": "MSbV3a2XGttd"
      },
      "source": [
        "Abaixo, vamos criar uma função normal. Aqui, podemos ver que ao chamar a função, passamos um parâmetro, que tomará o lugar de x. Podemos alterar esse valor, e rodar a função novamente, modificando o plot.\n",
        "\n",
        "Mas, com o `ipywidgets` nós conseguimos tornar esse processo mais fácil, por meio de uma UI interativa."
      ]
    },
    {
      "cell_type": "code",
      "execution_count": null,
      "metadata": {
        "colab": {
          "base_uri": "https://localhost:8080/",
          "height": 434
        },
        "id": "4rHIUEdrd0VV",
        "outputId": "165a1446-cf31-4f90-f198-8dbe69907263"
      },
      "outputs": [
        {
          "data": {
            "image/png": "[encoded data removed]",
            "text/plain": [
              "<Figure size 640x480 with 1 Axes>"
            ]
          },
          "metadata": {},
          "output_type": "display_data"
        }
      ],
      "source": [
        "# criando uma função\n",
        "def f(x):\n",
        "  plt.plot(np.arange(0,10), x*np.arange(0,10))\n",
        "  plt.ylim(-30,30)\n",
        "f(0)"
      ]
    },
    {
      "cell_type": "markdown",
      "metadata": {
        "id": "gLKyMt2DG9VO"
      },
      "source": [
        "Para isso, vamos chamar a função que definimos anteriormente dentro da função interact do `ipywidget`.\n",
        "\n",
        "Vamos passar como argumento a função, e o range de parâmetros que x pode assumir. O primeiro valor será o mínimo, o segundo o máximo, e o terceiro seria nosso step.\n",
        "\n",
        "Com tudo definido, basta rodar e utilizar o slider criado. A biblioteca usar um slider, pois vê que estamos utilizando um `int`, então, entende que essa seria a melhor UI para o caso."
      ]
    },
    {
      "cell_type": "code",
      "execution_count": null,
      "metadata": {
        "colab": {
          "base_uri": "https://localhost:8080/",
          "height": 483,
          "referenced_widgets": [
            "4adeaf53a5cd45f18c72b9d4f63d32c0",
            "8f6486c67733492196b997ebb4db1194",
            "a79e551e393e4aa2b71ea06cf8a1114a",
            "ddd73cdea69e49c899c5205e4729c59a",
            "55cbdffd675f464a80df3cf6a0775027",
            "3d64f317f96049df8a7b24c28568db91",
            "e97a7adaffa442ba863fed1d9d00b21b"
          ]
        },
        "id": "m8HgWsrFjWQx",
        "outputId": "a9f5f767-8ef8-42a3-c76c-e4a9db66a07e"
      },
      "outputs": [
        {
          "data": {
            "application/vnd.jupyter.widget-view+json": {
              "model_id": "4adeaf53a5cd45f18c72b9d4f63d32c0",
              "version_major": 2,
              "version_minor": 0
            },
            "text/plain": [
              "interactive(children=(IntSlider(value=2, description='x', max=10, min=-5), Output()), _dom_classes=('widget-in…"
            ]
          },
          "metadata": {},
          "output_type": "display_data"
        },
        {
          "data": {
            "text/plain": [
              "<function __main__.f(x)>"
            ]
          },
          "execution_count": 14,
          "metadata": {},
          "output_type": "execute_result"
        }
      ],
      "source": [
        "# muda o slope, sabendo que é um integer, ele sabe que é slider\n",
        "def f(x):\n",
        "  plt.clf()\n",
        "  plt.plot(np.arange(0,10), x*np.arange(0,10))\n",
        "  plt.ylim(-30,30)\n",
        "  plt.show()\n",
        "interact(f, x=(-5,10,1))\n"
      ]
    },
    {
      "cell_type": "markdown",
      "metadata": {
        "id": "Ungnx_hzHal2"
      },
      "source": [
        "Se passarmos um `bool` como parâmetro para x, dentro do interact, ao invés de um slider, teremos um checkbox, onde a caixa preenchida seria True, e não preenchida, False."
      ]
    },
    {
      "cell_type": "code",
      "execution_count": null,
      "metadata": {
        "colab": {
          "base_uri": "https://localhost:8080/",
          "height": 478,
          "referenced_widgets": [
            "05287971c00c408d8a024e18c743f1d1",
            "8568dffbd53c485685ef64fee7b5ebba",
            "81697b188bce4b3cb2ac451b241710ad",
            "221975693f544fef88105415c0f602d2",
            "50a2f6f2892d499abcb70245cd402001",
            "29253ab83efb4032a1d7b4b402bfbc32",
            "c32993463f454f06bef6666788b85a76"
          ]
        },
        "id": "m6GcZA3vjaKw",
        "outputId": "4d42e6e3-67d8-4da7-d54e-c5d500a51f16"
      },
      "outputs": [
        {
          "data": {
            "application/vnd.jupyter.widget-view+json": {
              "model_id": "05287971c00c408d8a024e18c743f1d1",
              "version_major": 2,
              "version_minor": 0
            },
            "text/plain": [
              "interactive(children=(Checkbox(value=True, description='x'), Output()), _dom_classes=('widget-interact',))"
            ]
          },
          "metadata": {},
          "output_type": "display_data"
        },
        {
          "data": {
            "text/plain": [
              "<function __main__.f(x)>"
            ]
          },
          "execution_count": 15,
          "metadata": {},
          "output_type": "execute_result"
        }
      ],
      "source": [
        "# checkbox para booleanos#\n",
        "rands = np.random.rand(100)\n",
        "def f(x):\n",
        "  plt.clf()\n",
        "  if x:\n",
        "    plt.plot(rands, 'b')\n",
        "  else:\n",
        "    plt.plot(rands, 'r')\n",
        "  plt.show()\n",
        "interact(f, x=True)"
      ]
    },
    {
      "cell_type": "markdown",
      "metadata": {
        "id": "skI4ZJGgHkRQ"
      },
      "source": [
        "Pordemos também passar um `decorator`, algo que vai servir como decorador para o nosso plot. Nesse caso, queremos modificar o nome do título do plot, por exemplo."
      ]
    },
    {
      "cell_type": "code",
      "execution_count": null,
      "metadata": {
        "colab": {
          "base_uri": "https://localhost:8080/",
          "height": 485,
          "referenced_widgets": [
            "682d4160dbee43fa80a2137cc2eaf990",
            "50bc772ccbdf499da1d0968272190a19",
            "e978ddfcb8554fa1b7e470fad5508b52",
            "ce35c58e122c49cb912739be19febfac",
            "5b06fcbd05ae4cb6a453ca14155729d1",
            "76046fb7e49e4ce386d20b2476e172ee",
            "c067540cba8f4549bb45e71f59bd1d8c"
          ]
        },
        "id": "f9otkKkVxM_a",
        "outputId": "d69848ef-703d-4397-fb1a-eaf168f3f6b4"
      },
      "outputs": [
        {
          "data": {
            "application/vnd.jupyter.widget-view+json": {
              "model_id": "682d4160dbee43fa80a2137cc2eaf990",
              "version_major": 2,
              "version_minor": 0
            },
            "text/plain": [
              "interactive(children=(Text(value='Sigmoidal', description='x'), Output()), _dom_classes=('widget-interact',))"
            ]
          },
          "metadata": {},
          "output_type": "display_data"
        }
      ],
      "source": [
        "# decorator. Identifica a string e entrega um text box\n",
        "\n",
        "@interact(x='Sigmoidal')\n",
        "def f(x):\n",
        "  plt.clf()\n",
        "  plt.title(x)\n",
        "  plt.show()"
      ]
    },
    {
      "cell_type": "markdown",
      "metadata": {
        "id": "0xY9p-EeHwya"
      },
      "source": [
        "Também é importante ressaltar que não estamos presos a apenas um widget por plot. Basta fazer as mudanças na função, e passar os parâmetros no interact.\n",
        "\n",
        "Aqui mostramos também que ele define um range e um step automaticamente, mas você também pode escolher passar como mostramos nos exemplos anteriores."
      ]
    },
    {
      "cell_type": "code",
      "execution_count": null,
      "metadata": {
        "colab": {
          "base_uri": "https://localhost:8080/",
          "height": 554,
          "referenced_widgets": [
            "eef00e39f1da4c07b4647056b332efb2",
            "0f17724e93f64b7289d32432aedef662",
            "71d3a0a5d1ba4b24b3445ac40687fc3d",
            "77d742ed35cf428d9354d82a9a519ac1",
            "000d00b39c2c41eda6aaeb8a286b2056",
            "263ea4701825420d8958742af0412f2c",
            "e8d9b56565d54c38b16de3d29aafdab4",
            "cd9091d4a10346a692a5c1099cceb53a",
            "e0ed3912c7e24eeaa2074538a9be5ebf",
            "0f926bedb10340b89acd95774fc5c5c1"
          ]
        },
        "id": "s3Gv9pAhxqfX",
        "outputId": "a2bb94bd-e98f-42ee-d441-b6c96aa37995"
      },
      "outputs": [
        {
          "data": {
            "application/vnd.jupyter.widget-view+json": {
              "model_id": "eef00e39f1da4c07b4647056b332efb2",
              "version_major": 2,
              "version_minor": 0
            },
            "text/plain": [
              "interactive(children=(IntSlider(value=1, description='a', max=3, min=-1), IntSlider(value=3, description='b', …"
            ]
          },
          "metadata": {},
          "output_type": "display_data"
        },
        {
          "data": {
            "text/plain": [
              "<function __main__.f(a, b)>"
            ]
          },
          "execution_count": 17,
          "metadata": {},
          "output_type": "execute_result"
        },
        {
          "data": {
            "text/plain": [
              "<Figure size 640x480 with 0 Axes>"
            ]
          },
          "metadata": {},
          "output_type": "display_data"
        }
      ],
      "source": [
        "# multiplos widgets\n",
        "def f(a,b):\n",
        "  plt.clf()\n",
        "  plt.plot(np.arange(0,10), a*np.power(np.arange(0,10), b))\n",
        "  plt.title(\"Lei de Potência: $x=ay^b$\")\n",
        "  plt.show()\n",
        "interact(f, a=1, b=3)"
      ]
    },
    {
      "cell_type": "markdown",
      "metadata": {
        "id": "g2a3geNVJQeG"
      },
      "source": [
        "Se a personalização é importante, ter valores fixos também pode ser.\n",
        "\n"
      ]
    },
    {
      "cell_type": "code",
      "execution_count": null,
      "metadata": {
        "colab": {
          "base_uri": "https://localhost:8080/",
          "height": 505,
          "referenced_widgets": [
            "cb2b8ec25ea64161a65266f1bdbc0839",
            "8101843ac5f2441988988306355c27b5",
            "8d5a5d749d6347928bc6b39bf0c460d6",
            "c3c71c3e35ec46029686516dbdd89cd0",
            "9f7ea2e0d86b48ef8405d6af444a5f02",
            "5f5d88291e934810927a6fbfc846bf1f",
            "242f1e68b06846cfb557b19f1271c9d4"
          ]
        },
        "id": "IQtvGEdPyUN6",
        "outputId": "7e061bf3-5de3-4bf4-ade9-45d2bb8a332e"
      },
      "outputs": [
        {
          "data": {
            "application/vnd.jupyter.widget-view+json": {
              "model_id": "cb2b8ec25ea64161a65266f1bdbc0839",
              "version_major": 2,
              "version_minor": 0
            },
            "text/plain": [
              "interactive(children=(IntSlider(value=1, description='a', max=3, min=-1), Output()), _dom_classes=('widget-int…"
            ]
          },
          "metadata": {},
          "output_type": "display_data"
        },
        {
          "data": {
            "text/plain": [
              "<function __main__.f(a, b)>"
            ]
          },
          "execution_count": 18,
          "metadata": {},
          "output_type": "execute_result"
        }
      ],
      "source": [
        "# valores fixos\n",
        "def f(a,b):\n",
        "  plt.clf()\n",
        "  plt.plot(np.arange(0,10), a*np.power(np.arange(0,10), b))\n",
        "  plt.title(\"Lei da Potência: $x=ay^b$\")\n",
        "  plt.show()\n",
        "interact(f, a=1, b=fixed(2))"
      ]
    },
    {
      "cell_type": "code",
      "execution_count": null,
      "metadata": {
        "colab": {
          "base_uri": "https://localhost:8080/",
          "height": 505,
          "referenced_widgets": [
            "44564ac927c642bdbe323fbcab772848",
            "857ba2bad0fb4243993c3afe5b8cc2ad",
            "db762606b0c94b109f03c407ab9a6b79",
            "8b255a1a2af24b23afe84d075db2ea34",
            "b97f0c1323044dcaa53312e78113770e",
            "550b2cbd2db54c3b8a5fe36f769889db",
            "240832c0795f4c54b7e90104e1979bbc"
          ]
        },
        "id": "6NNYr9HbJV3w",
        "outputId": "fb5c3c1c-8b2d-4982-af6e-615f9525d8cf"
      },
      "outputs": [
        {
          "data": {
            "application/vnd.jupyter.widget-view+json": {
              "model_id": "44564ac927c642bdbe323fbcab772848",
              "version_major": 2,
              "version_minor": 0
            },
            "text/plain": [
              "interactive(children=(IntSlider(value=1, description='a', max=3, min=-1), Output()), _dom_classes=('widget-int…"
            ]
          },
          "metadata": {},
          "output_type": "display_data"
        },
        {
          "data": {
            "text/plain": [
              "<function __main__.f(a)>"
            ]
          },
          "execution_count": 19,
          "metadata": {},
          "output_type": "execute_result"
        }
      ],
      "source": [
        "# valores fixos, mas com o b definido\n",
        "def f(a):\n",
        "  plt.clf()\n",
        "  plt.plot(np.arange(0,10), a*np.power(np.arange(0,10), 2))\n",
        "  plt.title(\"Lei da Potência: $x=ay^b$\")\n",
        "  plt.show()\n",
        "interact(f, a=1)"
      ]
    },
    {
      "cell_type": "markdown",
      "metadata": {
        "id": "EMG98VJaJnMR"
      },
      "source": [
        "Para criar um menu dropdown para as interações, basta passar uma lista como parâmetro.\n",
        "\n",
        "Aqui, a nossa função vai receber o parâmetro cor através do interact.\n",
        "\n",
        "A cor vai fazer parte de uma lista de cores, que vamos passar como parâmetro dentro da função do interact."
      ]
    },
    {
      "cell_type": "code",
      "execution_count": null,
      "metadata": {
        "colab": {
          "base_uri": "https://localhost:8080/",
          "height": 505,
          "referenced_widgets": [
            "b7118faa704d411bacdf2944748e4529",
            "ef195d3954f64543ae32d7c54df6894e",
            "e6580953b38245dc9b6e5be133657fec",
            "f25c10efb03f46b8a492a46bd3f2f91f",
            "aa918965f7a9441580bc46626f474624",
            "b1e16a6af33043a285b936cff5157890",
            "11fbfb6a9a13487badef9a2158c5cd5a"
          ]
        },
        "id": "WD7t5zAx03ME",
        "outputId": "a29a90e7-9600-4061-fa74-111db5040a47"
      },
      "outputs": [
        {
          "data": {
            "application/vnd.jupyter.widget-view+json": {
              "model_id": "b7118faa704d411bacdf2944748e4529",
              "version_major": 2,
              "version_minor": 0
            },
            "text/plain": [
              "interactive(children=(Dropdown(description='color', options=('Red', 'Blue', 'Green'), value='Red'), Output()),…"
            ]
          },
          "metadata": {},
          "output_type": "display_data"
        },
        {
          "data": {
            "text/plain": [
              "<function __main__.f(color)>"
            ]
          },
          "execution_count": 26,
          "metadata": {},
          "output_type": "execute_result"
        }
      ],
      "source": [
        "# dropdown de listas\n",
        "\n",
        "def f(color):\n",
        "  plt.clf()\n",
        "  plt.plot(np.arange(0,10), np.power(np.arange(0,10), 5), c=color)\n",
        "  plt.title(\"Lei da Potência: $x=ay^b$\")\n",
        "  plt.show()\n",
        "colors=['Red', 'Blue', 'Green']\n",
        "\n",
        "interact(f, color=colors)"
      ]
    },
    {
      "cell_type": "markdown",
      "metadata": {
        "id": "0FVwCtdTKBOD"
      },
      "source": [
        "Também é possível criar um dropdown com dicionários. Poderíamos, por exemplo, ter passado uam lista de ints, e modificaríamos o plot a partir de um dropdown, da mesma forma que faríamos com um slider.\n",
        "\n",
        "Mas e se quiséssimos escrever o nome do número e fazer com que a função receba o número como int? Dicionários!\n",
        "\n",
        "Passamos as opções do dropdown como chaves e os valores que a função irá receber como valores.\n",
        "\n",
        "Então é só passar o dicionário como parâmetro dentro do interact."
      ]
    },
    {
      "cell_type": "code",
      "execution_count": null,
      "metadata": {
        "colab": {
          "base_uri": "https://localhost:8080/",
          "height": 505,
          "referenced_widgets": [
            "80741859fdd0425686e86cc95b7fa151",
            "7abe65ab2368462faa125f0c5139b583",
            "63d6dd12109b4d2c9f9ec5a8e34bf4ae",
            "e8ed0264545c4b91bd14896b10923b8e",
            "b9d93e8471c646a4b7f3549191519261",
            "6d38d1d3cba74f8dbb765b4b8b1fe0e4",
            "3b38c03eead140cb88ed28e750a1ac4d"
          ]
        },
        "id": "wPSg6r5o1kIE",
        "outputId": "d63e6ff5-64f0-4bee-9467-9d9339e9ada1"
      },
      "outputs": [
        {
          "data": {
            "application/vnd.jupyter.widget-view+json": {
              "model_id": "80741859fdd0425686e86cc95b7fa151",
              "version_major": 2,
              "version_minor": 0
            },
            "text/plain": [
              "interactive(children=(Dropdown(description='b', options={'One': 1, 'Two': 2, 'Three': 3}, value=1), Output()),…"
            ]
          },
          "metadata": {},
          "output_type": "display_data"
        },
        {
          "data": {
            "text/plain": [
              "<function __main__.f(b)>"
            ]
          },
          "execution_count": 27,
          "metadata": {},
          "output_type": "execute_result"
        }
      ],
      "source": [
        "# dropdown de dicionários\n",
        "\n",
        "def f(b):\n",
        "  plt.clf()\n",
        "  plt.plot(np.arange(0,10), np.power(np.arange(0,10), b))\n",
        "  plt.title(\"Power Law: $x=ay^b$\")\n",
        "  plt.show()\n",
        "powers = {'One':1, 'Two':2, 'Three':3}\n",
        "interact(f, b=powers)"
      ]
    },
    {
      "cell_type": "code",
      "execution_count": null,
      "metadata": {
        "colab": {
          "base_uri": "https://localhost:8080/",
          "height": 505,
          "referenced_widgets": [
            "25bb4159a75f4d01ba190cd98d064f2b",
            "db15bec5ee1d4a23b1c392e254228c86",
            "ffdb01c863c043cbbdc3691b14d6be32",
            "903311a9bde345d58cb474bd0c8e8aaf",
            "2bdb9b934dff41e6a8daaa1ab9872aaf",
            "f9551c480a984277abc45fae5052b939",
            "7654eaf9ec614a798aac61680f256a7d"
          ]
        },
        "id": "7SDpvPIk25Vh",
        "outputId": "e892ac8b-7043-4529-8987-d08f03974e9a"
      },
      "outputs": [
        {
          "data": {
            "application/vnd.jupyter.widget-view+json": {
              "model_id": "25bb4159a75f4d01ba190cd98d064f2b",
              "version_major": 2,
              "version_minor": 0
            },
            "text/plain": [
              "interactive(children=(Dropdown(description='color', options={'Vermelho': 'Red', 'Azul': 'Blue', 'Verde': 'Gree…"
            ]
          },
          "metadata": {},
          "output_type": "display_data"
        },
        {
          "data": {
            "text/plain": [
              "<function __main__.f(color)>"
            ]
          },
          "execution_count": 28,
          "metadata": {},
          "output_type": "execute_result"
        }
      ],
      "source": [
        "# dropdown de dicionários\n",
        "\n",
        "def f(color):\n",
        "  plt.clf()\n",
        "  plt.plot(np.arange(0,10), np.power(np.arange(0,10), 5), c=color)\n",
        "  plt.title(\"Lei da Potência: $x=ay^b$\")\n",
        "  plt.show()\n",
        "colors={'Vermelho':'Red', 'Azul':'Blue', 'Verde':'Green'}\n",
        "interact(f, color=colors)"
      ]
    },
    {
      "cell_type": "code",
      "execution_count": null,
      "metadata": {
        "id": "ceneMeNJQHY2"
      },
      "outputs": [],
      "source": []
    }
  ],
  "metadata": {
    "colab": {
      "provenance": []
    },
    "kernelspec": {
      "display_name": "Python 3",
      "name": "python3"
    },
    "language_info": {
      "name": "python"
    },
    "widgets": {
      "application/vnd.jupyter.widget-state+json": {
        "000d00b39c2c41eda6aaeb8a286b2056": {
          "model_module": "@jupyter-widgets/base",
          "model_module_version": "1.2.0",
          "model_name": "LayoutModel",
          "state": {
            "_model_module": "@jupyter-widgets/base",
            "_model_module_version": "1.2.0",
            "_model_name": "LayoutModel",
            "_view_count": null,
            "_view_module": "@jupyter-widgets/base",
            "_view_module_version": "1.2.0",
            "_view_name": "LayoutView",
            "align_content": null,
            "align_items": null,
            "align_self": null,
            "border": null,
            "bottom": null,
            "display": null,
            "flex": null,
            "flex_flow": null,
            "grid_area": null,
            "grid_auto_columns": null,
            "grid_auto_flow": null,
            "grid_auto_rows": null,
            "grid_column": null,
            "grid_gap": null,
            "grid_row": null,
            "grid_template_areas": null,
            "grid_template_columns": null,
            "grid_template_rows": null,
            "height": null,
            "justify_content": null,
            "justify_items": null,
            "left": null,
            "margin": null,
            "max_height": null,
            "max_width": null,
            "min_height": null,
            "min_width": null,
            "object_fit": null,
            "object_position": null,
            "order": null,
            "overflow": null,
            "overflow_x": null,
            "overflow_y": null,
            "padding": null,
            "right": null,
            "top": null,
            "visibility": null,
            "width": null
          }
        },
        "05287971c00c408d8a024e18c743f1d1": {
          "model_module": "@jupyter-widgets/controls",
          "model_module_version": "1.5.0",
          "model_name": "VBoxModel",
          "state": {
            "_dom_classes": [
              "widget-interact"
            ],
            "_model_module": "@jupyter-widgets/controls",
            "_model_module_version": "1.5.0",
            "_model_name": "VBoxModel",
            "_view_count": null,
            "_view_module": "@jupyter-widgets/controls",
            "_view_module_version": "1.5.0",
            "_view_name": "VBoxView",
            "box_style": "",
            "children": [
              "IPY_MODEL_8568dffbd53c485685ef64fee7b5ebba",
              "IPY_MODEL_81697b188bce4b3cb2ac451b241710ad"
            ],
            "layout": "IPY_MODEL_221975693f544fef88105415c0f602d2"
          }
        },
        "0f17724e93f64b7289d32432aedef662": {
          "model_module": "@jupyter-widgets/controls",
          "model_module_version": "1.5.0",
          "model_name": "IntSliderModel",
          "state": {
            "_dom_classes": [],
            "_model_module": "@jupyter-widgets/controls",
            "_model_module_version": "1.5.0",
            "_model_name": "IntSliderModel",
            "_view_count": null,
            "_view_module": "@jupyter-widgets/controls",
            "_view_module_version": "1.5.0",
            "_view_name": "IntSliderView",
            "continuous_update": true,
            "description": "a",
            "description_tooltip": null,
            "disabled": false,
            "layout": "IPY_MODEL_263ea4701825420d8958742af0412f2c",
            "max": 3,
            "min": -1,
            "orientation": "horizontal",
            "readout": true,
            "readout_format": "d",
            "step": 1,
            "style": "IPY_MODEL_e8d9b56565d54c38b16de3d29aafdab4",
            "value": 2
          }
        },
        "0f926bedb10340b89acd95774fc5c5c1": {
          "model_module": "@jupyter-widgets/base",
          "model_module_version": "1.2.0",
          "model_name": "LayoutModel",
          "state": {
            "_model_module": "@jupyter-widgets/base",
            "_model_module_version": "1.2.0",
            "_model_name": "LayoutModel",
            "_view_count": null,
            "_view_module": "@jupyter-widgets/base",
            "_view_module_version": "1.2.0",
            "_view_name": "LayoutView",
            "align_content": null,
            "align_items": null,
            "align_self": null,
            "border": null,
            "bottom": null,
            "display": null,
            "flex": null,
            "flex_flow": null,
            "grid_area": null,
            "grid_auto_columns": null,
            "grid_auto_flow": null,
            "grid_auto_rows": null,
            "grid_column": null,
            "grid_gap": null,
            "grid_row": null,
            "grid_template_areas": null,
            "grid_template_columns": null,
            "grid_template_rows": null,
            "height": null,
            "justify_content": null,
            "justify_items": null,
            "left": null,
            "margin": null,
            "max_height": null,
            "max_width": null,
            "min_height": null,
            "min_width": null,
            "object_fit": null,
            "object_position": null,
            "order": null,
            "overflow": null,
            "overflow_x": null,
            "overflow_y": null,
            "padding": null,
            "right": null,
            "top": null,
            "visibility": null,
            "width": null
          }
        },
        "11fbfb6a9a13487badef9a2158c5cd5a": {
          "model_module": "@jupyter-widgets/base",
          "model_module_version": "1.2.0",
          "model_name": "LayoutModel",
          "state": {
            "_model_module": "@jupyter-widgets/base",
            "_model_module_version": "1.2.0",
            "_model_name": "LayoutModel",
            "_view_count": null,
            "_view_module": "@jupyter-widgets/base",
            "_view_module_version": "1.2.0",
            "_view_name": "LayoutView",
            "align_content": null,
            "align_items": null,
            "align_self": null,
            "border": null,
            "bottom": null,
            "display": null,
            "flex": null,
            "flex_flow": null,
            "grid_area": null,
            "grid_auto_columns": null,
            "grid_auto_flow": null,
            "grid_auto_rows": null,
            "grid_column": null,
            "grid_gap": null,
            "grid_row": null,
            "grid_template_areas": null,
            "grid_template_columns": null,
            "grid_template_rows": null,
            "height": null,
            "justify_content": null,
            "justify_items": null,
            "left": null,
            "margin": null,
            "max_height": null,
            "max_width": null,
            "min_height": null,
            "min_width": null,
            "object_fit": null,
            "object_position": null,
            "order": null,
            "overflow": null,
            "overflow_x": null,
            "overflow_y": null,
            "padding": null,
            "right": null,
            "top": null,
            "visibility": null,
            "width": null
          }
        },
        "221975693f544fef88105415c0f602d2": {
          "model_module": "@jupyter-widgets/base",
          "model_module_version": "1.2.0",
          "model_name": "LayoutModel",
          "state": {
            "_model_module": "@jupyter-widgets/base",
            "_model_module_version": "1.2.0",
            "_model_name": "LayoutModel",
            "_view_count": null,
            "_view_module": "@jupyter-widgets/base",
            "_view_module_version": "1.2.0",
            "_view_name": "LayoutView",
            "align_content": null,
            "align_items": null,
            "align_self": null,
            "border": null,
            "bottom": null,
            "display": null,
            "flex": null,
            "flex_flow": null,
            "grid_area": null,
            "grid_auto_columns": null,
            "grid_auto_flow": null,
            "grid_auto_rows": null,
            "grid_column": null,
            "grid_gap": null,
            "grid_row": null,
            "grid_template_areas": null,
            "grid_template_columns": null,
            "grid_template_rows": null,
            "height": null,
            "justify_content": null,
            "justify_items": null,
            "left": null,
            "margin": null,
            "max_height": null,
            "max_width": null,
            "min_height": null,
            "min_width": null,
            "object_fit": null,
            "object_position": null,
            "order": null,
            "overflow": null,
            "overflow_x": null,
            "overflow_y": null,
            "padding": null,
            "right": null,
            "top": null,
            "visibility": null,
            "width": null
          }
        },
        "240832c0795f4c54b7e90104e1979bbc": {
          "model_module": "@jupyter-widgets/base",
          "model_module_version": "1.2.0",
          "model_name": "LayoutModel",
          "state": {
            "_model_module": "@jupyter-widgets/base",
            "_model_module_version": "1.2.0",
            "_model_name": "LayoutModel",
            "_view_count": null,
            "_view_module": "@jupyter-widgets/base",
            "_view_module_version": "1.2.0",
            "_view_name": "LayoutView",
            "align_content": null,
            "align_items": null,
            "align_self": null,
            "border": null,
            "bottom": null,
            "display": null,
            "flex": null,
            "flex_flow": null,
            "grid_area": null,
            "grid_auto_columns": null,
            "grid_auto_flow": null,
            "grid_auto_rows": null,
            "grid_column": null,
            "grid_gap": null,
            "grid_row": null,
            "grid_template_areas": null,
            "grid_template_columns": null,
            "grid_template_rows": null,
            "height": null,
            "justify_content": null,
            "justify_items": null,
            "left": null,
            "margin": null,
            "max_height": null,
            "max_width": null,
            "min_height": null,
            "min_width": null,
            "object_fit": null,
            "object_position": null,
            "order": null,
            "overflow": null,
            "overflow_x": null,
            "overflow_y": null,
            "padding": null,
            "right": null,
            "top": null,
            "visibility": null,
            "width": null
          }
        },
        "242f1e68b06846cfb557b19f1271c9d4": {
          "model_module": "@jupyter-widgets/base",
          "model_module_version": "1.2.0",
          "model_name": "LayoutModel",
          "state": {
            "_model_module": "@jupyter-widgets/base",
            "_model_module_version": "1.2.0",
            "_model_name": "LayoutModel",
            "_view_count": null,
            "_view_module": "@jupyter-widgets/base",
            "_view_module_version": "1.2.0",
            "_view_name": "LayoutView",
            "align_content": null,
            "align_items": null,
            "align_self": null,
            "border": null,
            "bottom": null,
            "display": null,
            "flex": null,
            "flex_flow": null,
            "grid_area": null,
            "grid_auto_columns": null,
            "grid_auto_flow": null,
            "grid_auto_rows": null,
            "grid_column": null,
            "grid_gap": null,
            "grid_row": null,
            "grid_template_areas": null,
            "grid_template_columns": null,
            "grid_template_rows": null,
            "height": null,
            "justify_content": null,
            "justify_items": null,
            "left": null,
            "margin": null,
            "max_height": null,
            "max_width": null,
            "min_height": null,
            "min_width": null,
            "object_fit": null,
            "object_position": null,
            "order": null,
            "overflow": null,
            "overflow_x": null,
            "overflow_y": null,
            "padding": null,
            "right": null,
            "top": null,
            "visibility": null,
            "width": null
          }
        },
        "25bb4159a75f4d01ba190cd98d064f2b": {
          "model_module": "@jupyter-widgets/controls",
          "model_module_version": "1.5.0",
          "model_name": "VBoxModel",
          "state": {
            "_dom_classes": [
              "widget-interact"
            ],
            "_model_module": "@jupyter-widgets/controls",
            "_model_module_version": "1.5.0",
            "_model_name": "VBoxModel",
            "_view_count": null,
            "_view_module": "@jupyter-widgets/controls",
            "_view_module_version": "1.5.0",
            "_view_name": "VBoxView",
            "box_style": "",
            "children": [
              "IPY_MODEL_db15bec5ee1d4a23b1c392e254228c86",
              "IPY_MODEL_ffdb01c863c043cbbdc3691b14d6be32"
            ],
            "layout": "IPY_MODEL_903311a9bde345d58cb474bd0c8e8aaf"
          }
        },
        "263ea4701825420d8958742af0412f2c": {
          "model_module": "@jupyter-widgets/base",
          "model_module_version": "1.2.0",
          "model_name": "LayoutModel",
          "state": {
            "_model_module": "@jupyter-widgets/base",
            "_model_module_version": "1.2.0",
            "_model_name": "LayoutModel",
            "_view_count": null,
            "_view_module": "@jupyter-widgets/base",
            "_view_module_version": "1.2.0",
            "_view_name": "LayoutView",
            "align_content": null,
            "align_items": null,
            "align_self": null,
            "border": null,
            "bottom": null,
            "display": null,
            "flex": null,
            "flex_flow": null,
            "grid_area": null,
            "grid_auto_columns": null,
            "grid_auto_flow": null,
            "grid_auto_rows": null,
            "grid_column": null,
            "grid_gap": null,
            "grid_row": null,
            "grid_template_areas": null,
            "grid_template_columns": null,
            "grid_template_rows": null,
            "height": null,
            "justify_content": null,
            "justify_items": null,
            "left": null,
            "margin": null,
            "max_height": null,
            "max_width": null,
            "min_height": null,
            "min_width": null,
            "object_fit": null,
            "object_position": null,
            "order": null,
            "overflow": null,
            "overflow_x": null,
            "overflow_y": null,
            "padding": null,
            "right": null,
            "top": null,
            "visibility": null,
            "width": null
          }
        },
        "29253ab83efb4032a1d7b4b402bfbc32": {
          "model_module": "@jupyter-widgets/controls",
          "model_module_version": "1.5.0",
          "model_name": "DescriptionStyleModel",
          "state": {
            "_model_module": "@jupyter-widgets/controls",
            "_model_module_version": "1.5.0",
            "_model_name": "DescriptionStyleModel",
            "_view_count": null,
            "_view_module": "@jupyter-widgets/base",
            "_view_module_version": "1.2.0",
            "_view_name": "StyleView",
            "description_width": ""
          }
        },
        "2bdb9b934dff41e6a8daaa1ab9872aaf": {
          "model_module": "@jupyter-widgets/base",
          "model_module_version": "1.2.0",
          "model_name": "LayoutModel",
          "state": {
            "_model_module": "@jupyter-widgets/base",
            "_model_module_version": "1.2.0",
            "_model_name": "LayoutModel",
            "_view_count": null,
            "_view_module": "@jupyter-widgets/base",
            "_view_module_version": "1.2.0",
            "_view_name": "LayoutView",
            "align_content": null,
            "align_items": null,
            "align_self": null,
            "border": null,
            "bottom": null,
            "display": null,
            "flex": null,
            "flex_flow": null,
            "grid_area": null,
            "grid_auto_columns": null,
            "grid_auto_flow": null,
            "grid_auto_rows": null,
            "grid_column": null,
            "grid_gap": null,
            "grid_row": null,
            "grid_template_areas": null,
            "grid_template_columns": null,
            "grid_template_rows": null,
            "height": null,
            "justify_content": null,
            "justify_items": null,
            "left": null,
            "margin": null,
            "max_height": null,
            "max_width": null,
            "min_height": null,
            "min_width": null,
            "object_fit": null,
            "object_position": null,
            "order": null,
            "overflow": null,
            "overflow_x": null,
            "overflow_y": null,
            "padding": null,
            "right": null,
            "top": null,
            "visibility": null,
            "width": null
          }
        },
        "3b38c03eead140cb88ed28e750a1ac4d": {
          "model_module": "@jupyter-widgets/base",
          "model_module_version": "1.2.0",
          "model_name": "LayoutModel",
          "state": {
            "_model_module": "@jupyter-widgets/base",
            "_model_module_version": "1.2.0",
            "_model_name": "LayoutModel",
            "_view_count": null,
            "_view_module": "@jupyter-widgets/base",
            "_view_module_version": "1.2.0",
            "_view_name": "LayoutView",
            "align_content": null,
            "align_items": null,
            "align_self": null,
            "border": null,
            "bottom": null,
            "display": null,
            "flex": null,
            "flex_flow": null,
            "grid_area": null,
            "grid_auto_columns": null,
            "grid_auto_flow": null,
            "grid_auto_rows": null,
            "grid_column": null,
            "grid_gap": null,
            "grid_row": null,
            "grid_template_areas": null,
            "grid_template_columns": null,
            "grid_template_rows": null,
            "height": null,
            "justify_content": null,
            "justify_items": null,
            "left": null,
            "margin": null,
            "max_height": null,
            "max_width": null,
            "min_height": null,
            "min_width": null,
            "object_fit": null,
            "object_position": null,
            "order": null,
            "overflow": null,
            "overflow_x": null,
            "overflow_y": null,
            "padding": null,
            "right": null,
            "top": null,
            "visibility": null,
            "width": null
          }
        },
        "3d64f317f96049df8a7b24c28568db91": {
          "model_module": "@jupyter-widgets/controls",
          "model_module_version": "1.5.0",
          "model_name": "SliderStyleModel",
          "state": {
            "_model_module": "@jupyter-widgets/controls",
            "_model_module_version": "1.5.0",
            "_model_name": "SliderStyleModel",
            "_view_count": null,
            "_view_module": "@jupyter-widgets/base",
            "_view_module_version": "1.2.0",
            "_view_name": "StyleView",
            "description_width": "",
            "handle_color": null
          }
        },
        "44564ac927c642bdbe323fbcab772848": {
          "model_module": "@jupyter-widgets/controls",
          "model_module_version": "1.5.0",
          "model_name": "VBoxModel",
          "state": {
            "_dom_classes": [
              "widget-interact"
            ],
            "_model_module": "@jupyter-widgets/controls",
            "_model_module_version": "1.5.0",
            "_model_name": "VBoxModel",
            "_view_count": null,
            "_view_module": "@jupyter-widgets/controls",
            "_view_module_version": "1.5.0",
            "_view_name": "VBoxView",
            "box_style": "",
            "children": [
              "IPY_MODEL_857ba2bad0fb4243993c3afe5b8cc2ad",
              "IPY_MODEL_db762606b0c94b109f03c407ab9a6b79"
            ],
            "layout": "IPY_MODEL_8b255a1a2af24b23afe84d075db2ea34"
          }
        },
        "4adeaf53a5cd45f18c72b9d4f63d32c0": {
          "model_module": "@jupyter-widgets/controls",
          "model_module_version": "1.5.0",
          "model_name": "VBoxModel",
          "state": {
            "_dom_classes": [
              "widget-interact"
            ],
            "_model_module": "@jupyter-widgets/controls",
            "_model_module_version": "1.5.0",
            "_model_name": "VBoxModel",
            "_view_count": null,
            "_view_module": "@jupyter-widgets/controls",
            "_view_module_version": "1.5.0",
            "_view_name": "VBoxView",
            "box_style": "",
            "children": [
              "IPY_MODEL_8f6486c67733492196b997ebb4db1194",
              "IPY_MODEL_a79e551e393e4aa2b71ea06cf8a1114a"
            ],
            "layout": "IPY_MODEL_ddd73cdea69e49c899c5205e4729c59a"
          }
        },
        "50a2f6f2892d499abcb70245cd402001": {
          "model_module": "@jupyter-widgets/base",
          "model_module_version": "1.2.0",
          "model_name": "LayoutModel",
          "state": {
            "_model_module": "@jupyter-widgets/base",
            "_model_module_version": "1.2.0",
            "_model_name": "LayoutModel",
            "_view_count": null,
            "_view_module": "@jupyter-widgets/base",
            "_view_module_version": "1.2.0",
            "_view_name": "LayoutView",
            "align_content": null,
            "align_items": null,
            "align_self": null,
            "border": null,
            "bottom": null,
            "display": null,
            "flex": null,
            "flex_flow": null,
            "grid_area": null,
            "grid_auto_columns": null,
            "grid_auto_flow": null,
            "grid_auto_rows": null,
            "grid_column": null,
            "grid_gap": null,
            "grid_row": null,
            "grid_template_areas": null,
            "grid_template_columns": null,
            "grid_template_rows": null,
            "height": null,
            "justify_content": null,
            "justify_items": null,
            "left": null,
            "margin": null,
            "max_height": null,
            "max_width": null,
            "min_height": null,
            "min_width": null,
            "object_fit": null,
            "object_position": null,
            "order": null,
            "overflow": null,
            "overflow_x": null,
            "overflow_y": null,
            "padding": null,
            "right": null,
            "top": null,
            "visibility": null,
            "width": null
          }
        },
        "50bc772ccbdf499da1d0968272190a19": {
          "model_module": "@jupyter-widgets/controls",
          "model_module_version": "1.5.0",
          "model_name": "TextModel",
          "state": {
            "_dom_classes": [],
            "_model_module": "@jupyter-widgets/controls",
            "_model_module_version": "1.5.0",
            "_model_name": "TextModel",
            "_view_count": null,
            "_view_module": "@jupyter-widgets/controls",
            "_view_module_version": "1.5.0",
            "_view_name": "TextView",
            "continuous_update": true,
            "description": "x",
            "description_tooltip": null,
            "disabled": false,
            "layout": "IPY_MODEL_5b06fcbd05ae4cb6a453ca14155729d1",
            "placeholder": "​",
            "style": "IPY_MODEL_76046fb7e49e4ce386d20b2476e172ee",
            "value": "Sigmoidal"
          }
        },
        "550b2cbd2db54c3b8a5fe36f769889db": {
          "model_module": "@jupyter-widgets/controls",
          "model_module_version": "1.5.0",
          "model_name": "SliderStyleModel",
          "state": {
            "_model_module": "@jupyter-widgets/controls",
            "_model_module_version": "1.5.0",
            "_model_name": "SliderStyleModel",
            "_view_count": null,
            "_view_module": "@jupyter-widgets/base",
            "_view_module_version": "1.2.0",
            "_view_name": "StyleView",
            "description_width": "",
            "handle_color": null
          }
        },
        "55cbdffd675f464a80df3cf6a0775027": {
          "model_module": "@jupyter-widgets/base",
          "model_module_version": "1.2.0",
          "model_name": "LayoutModel",
          "state": {
            "_model_module": "@jupyter-widgets/base",
            "_model_module_version": "1.2.0",
            "_model_name": "LayoutModel",
            "_view_count": null,
            "_view_module": "@jupyter-widgets/base",
            "_view_module_version": "1.2.0",
            "_view_name": "LayoutView",
            "align_content": null,
            "align_items": null,
            "align_self": null,
            "border": null,
            "bottom": null,
            "display": null,
            "flex": null,
            "flex_flow": null,
            "grid_area": null,
            "grid_auto_columns": null,
            "grid_auto_flow": null,
            "grid_auto_rows": null,
            "grid_column": null,
            "grid_gap": null,
            "grid_row": null,
            "grid_template_areas": null,
            "grid_template_columns": null,
            "grid_template_rows": null,
            "height": null,
            "justify_content": null,
            "justify_items": null,
            "left": null,
            "margin": null,
            "max_height": null,
            "max_width": null,
            "min_height": null,
            "min_width": null,
            "object_fit": null,
            "object_position": null,
            "order": null,
            "overflow": null,
            "overflow_x": null,
            "overflow_y": null,
            "padding": null,
            "right": null,
            "top": null,
            "visibility": null,
            "width": null
          }
        },
        "5b06fcbd05ae4cb6a453ca14155729d1": {
          "model_module": "@jupyter-widgets/base",
          "model_module_version": "1.2.0",
          "model_name": "LayoutModel",
          "state": {
            "_model_module": "@jupyter-widgets/base",
            "_model_module_version": "1.2.0",
            "_model_name": "LayoutModel",
            "_view_count": null,
            "_view_module": "@jupyter-widgets/base",
            "_view_module_version": "1.2.0",
            "_view_name": "LayoutView",
            "align_content": null,
            "align_items": null,
            "align_self": null,
            "border": null,
            "bottom": null,
            "display": null,
            "flex": null,
            "flex_flow": null,
            "grid_area": null,
            "grid_auto_columns": null,
            "grid_auto_flow": null,
            "grid_auto_rows": null,
            "grid_column": null,
            "grid_gap": null,
            "grid_row": null,
            "grid_template_areas": null,
            "grid_template_columns": null,
            "grid_template_rows": null,
            "height": null,
            "justify_content": null,
            "justify_items": null,
            "left": null,
            "margin": null,
            "max_height": null,
            "max_width": null,
            "min_height": null,
            "min_width": null,
            "object_fit": null,
            "object_position": null,
            "order": null,
            "overflow": null,
            "overflow_x": null,
            "overflow_y": null,
            "padding": null,
            "right": null,
            "top": null,
            "visibility": null,
            "width": null
          }
        },
        "5f5d88291e934810927a6fbfc846bf1f": {
          "model_module": "@jupyter-widgets/controls",
          "model_module_version": "1.5.0",
          "model_name": "SliderStyleModel",
          "state": {
            "_model_module": "@jupyter-widgets/controls",
            "_model_module_version": "1.5.0",
            "_model_name": "SliderStyleModel",
            "_view_count": null,
            "_view_module": "@jupyter-widgets/base",
            "_view_module_version": "1.2.0",
            "_view_name": "StyleView",
            "description_width": "",
            "handle_color": null
          }
        },
        "63d6dd12109b4d2c9f9ec5a8e34bf4ae": {
          "model_module": "@jupyter-widgets/output",
          "model_module_version": "1.0.0",
          "model_name": "OutputModel",
          "state": {
            "_dom_classes": [],
            "_model_module": "@jupyter-widgets/output",
            "_model_module_version": "1.0.0",
            "_model_name": "OutputModel",
            "_view_count": null,
            "_view_module": "@jupyter-widgets/output",
            "_view_module_version": "1.0.0",
            "_view_name": "OutputView",
            "layout": "IPY_MODEL_3b38c03eead140cb88ed28e750a1ac4d",
            "msg_id": "",
            "outputs": [
              {
                "data": {
                  "image/png": "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\n",
                  "text/plain": "<Figure size 640x480 with 1 Axes>"
                },
                "metadata": {},
                "output_type": "display_data"
              }
            ]
          }
        },
        "682d4160dbee43fa80a2137cc2eaf990": {
          "model_module": "@jupyter-widgets/controls",
          "model_module_version": "1.5.0",
          "model_name": "VBoxModel",
          "state": {
            "_dom_classes": [
              "widget-interact"
            ],
            "_model_module": "@jupyter-widgets/controls",
            "_model_module_version": "1.5.0",
            "_model_name": "VBoxModel",
            "_view_count": null,
            "_view_module": "@jupyter-widgets/controls",
            "_view_module_version": "1.5.0",
            "_view_name": "VBoxView",
            "box_style": "",
            "children": [
              "IPY_MODEL_50bc772ccbdf499da1d0968272190a19",
              "IPY_MODEL_e978ddfcb8554fa1b7e470fad5508b52"
            ],
            "layout": "IPY_MODEL_ce35c58e122c49cb912739be19febfac"
          }
        },
        "6d38d1d3cba74f8dbb765b4b8b1fe0e4": {
          "model_module": "@jupyter-widgets/controls",
          "model_module_version": "1.5.0",
          "model_name": "DescriptionStyleModel",
          "state": {
            "_model_module": "@jupyter-widgets/controls",
            "_model_module_version": "1.5.0",
            "_model_name": "DescriptionStyleModel",
            "_view_count": null,
            "_view_module": "@jupyter-widgets/base",
            "_view_module_version": "1.2.0",
            "_view_name": "StyleView",
            "description_width": ""
          }
        },
        "71d3a0a5d1ba4b24b3445ac40687fc3d": {
          "model_module": "@jupyter-widgets/controls",
          "model_module_version": "1.5.0",
          "model_name": "IntSliderModel",
          "state": {
            "_dom_classes": [],
            "_model_module": "@jupyter-widgets/controls",
            "_model_module_version": "1.5.0",
            "_model_name": "IntSliderModel",
            "_view_count": null,
            "_view_module": "@jupyter-widgets/controls",
            "_view_module_version": "1.5.0",
            "_view_name": "IntSliderView",
            "continuous_update": true,
            "description": "b",
            "description_tooltip": null,
            "disabled": false,
            "layout": "IPY_MODEL_cd9091d4a10346a692a5c1099cceb53a",
            "max": 9,
            "min": -3,
            "orientation": "horizontal",
            "readout": true,
            "readout_format": "d",
            "step": 1,
            "style": "IPY_MODEL_e0ed3912c7e24eeaa2074538a9be5ebf",
            "value": 5
          }
        },
        "76046fb7e49e4ce386d20b2476e172ee": {
          "model_module": "@jupyter-widgets/controls",
          "model_module_version": "1.5.0",
          "model_name": "DescriptionStyleModel",
          "state": {
            "_model_module": "@jupyter-widgets/controls",
            "_model_module_version": "1.5.0",
            "_model_name": "DescriptionStyleModel",
            "_view_count": null,
            "_view_module": "@jupyter-widgets/base",
            "_view_module_version": "1.2.0",
            "_view_name": "StyleView",
            "description_width": ""
          }
        },
        "7654eaf9ec614a798aac61680f256a7d": {
          "model_module": "@jupyter-widgets/base",
          "model_module_version": "1.2.0",
          "model_name": "LayoutModel",
          "state": {
            "_model_module": "@jupyter-widgets/base",
            "_model_module_version": "1.2.0",
            "_model_name": "LayoutModel",
            "_view_count": null,
            "_view_module": "@jupyter-widgets/base",
            "_view_module_version": "1.2.0",
            "_view_name": "LayoutView",
            "align_content": null,
            "align_items": null,
            "align_self": null,
            "border": null,
            "bottom": null,
            "display": null,
            "flex": null,
            "flex_flow": null,
            "grid_area": null,
            "grid_auto_columns": null,
            "grid_auto_flow": null,
            "grid_auto_rows": null,
            "grid_column": null,
            "grid_gap": null,
            "grid_row": null,
            "grid_template_areas": null,
            "grid_template_columns": null,
            "grid_template_rows": null,
            "height": null,
            "justify_content": null,
            "justify_items": null,
            "left": null,
            "margin": null,
            "max_height": null,
            "max_width": null,
            "min_height": null,
            "min_width": null,
            "object_fit": null,
            "object_position": null,
            "order": null,
            "overflow": null,
            "overflow_x": null,
            "overflow_y": null,
            "padding": null,
            "right": null,
            "top": null,
            "visibility": null,
            "width": null
          }
        },
        "77d742ed35cf428d9354d82a9a519ac1": {
          "model_module": "@jupyter-widgets/output",
          "model_module_version": "1.0.0",
          "model_name": "OutputModel",
          "state": {
            "_dom_classes": [],
            "_model_module": "@jupyter-widgets/output",
            "_model_module_version": "1.0.0",
            "_model_name": "OutputModel",
            "_view_count": null,
            "_view_module": "@jupyter-widgets/output",
            "_view_module_version": "1.0.0",
            "_view_name": "OutputView",
            "layout": "IPY_MODEL_0f926bedb10340b89acd95774fc5c5c1",
            "msg_id": "",
            "outputs": [
              {
                "data": {
                  "image/png": "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\n",
                  "text/plain": "<Figure size 640x480 with 1 Axes>"
                },
                "metadata": {},
                "output_type": "display_data"
              }
            ]
          }
        },
        "7abe65ab2368462faa125f0c5139b583": {
          "model_module": "@jupyter-widgets/controls",
          "model_module_version": "1.5.0",
          "model_name": "DropdownModel",
          "state": {
            "_dom_classes": [],
            "_model_module": "@jupyter-widgets/controls",
            "_model_module_version": "1.5.0",
            "_model_name": "DropdownModel",
            "_options_labels": [
              "One",
              "Two",
              "Three"
            ],
            "_view_count": null,
            "_view_module": "@jupyter-widgets/controls",
            "_view_module_version": "1.5.0",
            "_view_name": "DropdownView",
            "description": "b",
            "description_tooltip": null,
            "disabled": false,
            "index": 1,
            "layout": "IPY_MODEL_b9d93e8471c646a4b7f3549191519261",
            "style": "IPY_MODEL_6d38d1d3cba74f8dbb765b4b8b1fe0e4"
          }
        },
        "80741859fdd0425686e86cc95b7fa151": {
          "model_module": "@jupyter-widgets/controls",
          "model_module_version": "1.5.0",
          "model_name": "VBoxModel",
          "state": {
            "_dom_classes": [
              "widget-interact"
            ],
            "_model_module": "@jupyter-widgets/controls",
            "_model_module_version": "1.5.0",
            "_model_name": "VBoxModel",
            "_view_count": null,
            "_view_module": "@jupyter-widgets/controls",
            "_view_module_version": "1.5.0",
            "_view_name": "VBoxView",
            "box_style": "",
            "children": [
              "IPY_MODEL_7abe65ab2368462faa125f0c5139b583",
              "IPY_MODEL_63d6dd12109b4d2c9f9ec5a8e34bf4ae"
            ],
            "layout": "IPY_MODEL_e8ed0264545c4b91bd14896b10923b8e"
          }
        },
        "8101843ac5f2441988988306355c27b5": {
          "model_module": "@jupyter-widgets/controls",
          "model_module_version": "1.5.0",
          "model_name": "IntSliderModel",
          "state": {
            "_dom_classes": [],
            "_model_module": "@jupyter-widgets/controls",
            "_model_module_version": "1.5.0",
            "_model_name": "IntSliderModel",
            "_view_count": null,
            "_view_module": "@jupyter-widgets/controls",
            "_view_module_version": "1.5.0",
            "_view_name": "IntSliderView",
            "continuous_update": true,
            "description": "a",
            "description_tooltip": null,
            "disabled": false,
            "layout": "IPY_MODEL_9f7ea2e0d86b48ef8405d6af444a5f02",
            "max": 3,
            "min": -1,
            "orientation": "horizontal",
            "readout": true,
            "readout_format": "d",
            "step": 1,
            "style": "IPY_MODEL_5f5d88291e934810927a6fbfc846bf1f",
            "value": 1
          }
        },
        "81697b188bce4b3cb2ac451b241710ad": {
          "model_module": "@jupyter-widgets/output",
          "model_module_version": "1.0.0",
          "model_name": "OutputModel",
          "state": {
            "_dom_classes": [],
            "_model_module": "@jupyter-widgets/output",
            "_model_module_version": "1.0.0",
            "_model_name": "OutputModel",
            "_view_count": null,
            "_view_module": "@jupyter-widgets/output",
            "_view_module_version": "1.0.0",
            "_view_name": "OutputView",
            "layout": "IPY_MODEL_c32993463f454f06bef6666788b85a76",
            "msg_id": "",
            "outputs": [
              {
                "data": {
                  "image/png": "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\n",
                  "text/plain": "<Figure size 640x480 with 1 Axes>"
                },
                "metadata": {},
                "output_type": "display_data"
              }
            ]
          }
        },
        "8568dffbd53c485685ef64fee7b5ebba": {
          "model_module": "@jupyter-widgets/controls",
          "model_module_version": "1.5.0",
          "model_name": "CheckboxModel",
          "state": {
            "_dom_classes": [],
            "_model_module": "@jupyter-widgets/controls",
            "_model_module_version": "1.5.0",
            "_model_name": "CheckboxModel",
            "_view_count": null,
            "_view_module": "@jupyter-widgets/controls",
            "_view_module_version": "1.5.0",
            "_view_name": "CheckboxView",
            "description": "x",
            "description_tooltip": null,
            "disabled": false,
            "indent": true,
            "layout": "IPY_MODEL_50a2f6f2892d499abcb70245cd402001",
            "style": "IPY_MODEL_29253ab83efb4032a1d7b4b402bfbc32",
            "value": true
          }
        },
        "857ba2bad0fb4243993c3afe5b8cc2ad": {
          "model_module": "@jupyter-widgets/controls",
          "model_module_version": "1.5.0",
          "model_name": "IntSliderModel",
          "state": {
            "_dom_classes": [],
            "_model_module": "@jupyter-widgets/controls",
            "_model_module_version": "1.5.0",
            "_model_name": "IntSliderModel",
            "_view_count": null,
            "_view_module": "@jupyter-widgets/controls",
            "_view_module_version": "1.5.0",
            "_view_name": "IntSliderView",
            "continuous_update": true,
            "description": "a",
            "description_tooltip": null,
            "disabled": false,
            "layout": "IPY_MODEL_b97f0c1323044dcaa53312e78113770e",
            "max": 3,
            "min": -1,
            "orientation": "horizontal",
            "readout": true,
            "readout_format": "d",
            "step": 1,
            "style": "IPY_MODEL_550b2cbd2db54c3b8a5fe36f769889db",
            "value": 1
          }
        },
        "8b255a1a2af24b23afe84d075db2ea34": {
          "model_module": "@jupyter-widgets/base",
          "model_module_version": "1.2.0",
          "model_name": "LayoutModel",
          "state": {
            "_model_module": "@jupyter-widgets/base",
            "_model_module_version": "1.2.0",
            "_model_name": "LayoutModel",
            "_view_count": null,
            "_view_module": "@jupyter-widgets/base",
            "_view_module_version": "1.2.0",
            "_view_name": "LayoutView",
            "align_content": null,
            "align_items": null,
            "align_self": null,
            "border": null,
            "bottom": null,
            "display": null,
            "flex": null,
            "flex_flow": null,
            "grid_area": null,
            "grid_auto_columns": null,
            "grid_auto_flow": null,
            "grid_auto_rows": null,
            "grid_column": null,
            "grid_gap": null,
            "grid_row": null,
            "grid_template_areas": null,
            "grid_template_columns": null,
            "grid_template_rows": null,
            "height": null,
            "justify_content": null,
            "justify_items": null,
            "left": null,
            "margin": null,
            "max_height": null,
            "max_width": null,
            "min_height": null,
            "min_width": null,
            "object_fit": null,
            "object_position": null,
            "order": null,
            "overflow": null,
            "overflow_x": null,
            "overflow_y": null,
            "padding": null,
            "right": null,
            "top": null,
            "visibility": null,
            "width": null
          }
        },
        "8d5a5d749d6347928bc6b39bf0c460d6": {
          "model_module": "@jupyter-widgets/output",
          "model_module_version": "1.0.0",
          "model_name": "OutputModel",
          "state": {
            "_dom_classes": [],
            "_model_module": "@jupyter-widgets/output",
            "_model_module_version": "1.0.0",
            "_model_name": "OutputModel",
            "_view_count": null,
            "_view_module": "@jupyter-widgets/output",
            "_view_module_version": "1.0.0",
            "_view_name": "OutputView",
            "layout": "IPY_MODEL_242f1e68b06846cfb557b19f1271c9d4",
            "msg_id": "",
            "outputs": [
              {
                "data": {
                  "image/png": "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\n",
                  "text/plain": "<Figure size 640x480 with 1 Axes>"
                },
                "metadata": {},
                "output_type": "display_data"
              }
            ]
          }
        },
        "8f6486c67733492196b997ebb4db1194": {
          "model_module": "@jupyter-widgets/controls",
          "model_module_version": "1.5.0",
          "model_name": "IntSliderModel",
          "state": {
            "_dom_classes": [],
            "_model_module": "@jupyter-widgets/controls",
            "_model_module_version": "1.5.0",
            "_model_name": "IntSliderModel",
            "_view_count": null,
            "_view_module": "@jupyter-widgets/controls",
            "_view_module_version": "1.5.0",
            "_view_name": "IntSliderView",
            "continuous_update": true,
            "description": "x",
            "description_tooltip": null,
            "disabled": false,
            "layout": "IPY_MODEL_55cbdffd675f464a80df3cf6a0775027",
            "max": 10,
            "min": -5,
            "orientation": "horizontal",
            "readout": true,
            "readout_format": "d",
            "step": 1,
            "style": "IPY_MODEL_3d64f317f96049df8a7b24c28568db91",
            "value": 5
          }
        },
        "903311a9bde345d58cb474bd0c8e8aaf": {
          "model_module": "@jupyter-widgets/base",
          "model_module_version": "1.2.0",
          "model_name": "LayoutModel",
          "state": {
            "_model_module": "@jupyter-widgets/base",
            "_model_module_version": "1.2.0",
            "_model_name": "LayoutModel",
            "_view_count": null,
            "_view_module": "@jupyter-widgets/base",
            "_view_module_version": "1.2.0",
            "_view_name": "LayoutView",
            "align_content": null,
            "align_items": null,
            "align_self": null,
            "border": null,
            "bottom": null,
            "display": null,
            "flex": null,
            "flex_flow": null,
            "grid_area": null,
            "grid_auto_columns": null,
            "grid_auto_flow": null,
            "grid_auto_rows": null,
            "grid_column": null,
            "grid_gap": null,
            "grid_row": null,
            "grid_template_areas": null,
            "grid_template_columns": null,
            "grid_template_rows": null,
            "height": null,
            "justify_content": null,
            "justify_items": null,
            "left": null,
            "margin": null,
            "max_height": null,
            "max_width": null,
            "min_height": null,
            "min_width": null,
            "object_fit": null,
            "object_position": null,
            "order": null,
            "overflow": null,
            "overflow_x": null,
            "overflow_y": null,
            "padding": null,
            "right": null,
            "top": null,
            "visibility": null,
            "width": null
          }
        },
        "9f7ea2e0d86b48ef8405d6af444a5f02": {
          "model_module": "@jupyter-widgets/base",
          "model_module_version": "1.2.0",
          "model_name": "LayoutModel",
          "state": {
            "_model_module": "@jupyter-widgets/base",
            "_model_module_version": "1.2.0",
            "_model_name": "LayoutModel",
            "_view_count": null,
            "_view_module": "@jupyter-widgets/base",
            "_view_module_version": "1.2.0",
            "_view_name": "LayoutView",
            "align_content": null,
            "align_items": null,
            "align_self": null,
            "border": null,
            "bottom": null,
            "display": null,
            "flex": null,
            "flex_flow": null,
            "grid_area": null,
            "grid_auto_columns": null,
            "grid_auto_flow": null,
            "grid_auto_rows": null,
            "grid_column": null,
            "grid_gap": null,
            "grid_row": null,
            "grid_template_areas": null,
            "grid_template_columns": null,
            "grid_template_rows": null,
            "height": null,
            "justify_content": null,
            "justify_items": null,
            "left": null,
            "margin": null,
            "max_height": null,
            "max_width": null,
            "min_height": null,
            "min_width": null,
            "object_fit": null,
            "object_position": null,
            "order": null,
            "overflow": null,
            "overflow_x": null,
            "overflow_y": null,
            "padding": null,
            "right": null,
            "top": null,
            "visibility": null,
            "width": null
          }
        },
        "a79e551e393e4aa2b71ea06cf8a1114a": {
          "model_module": "@jupyter-widgets/output",
          "model_module_version": "1.0.0",
          "model_name": "OutputModel",
          "state": {
            "_dom_classes": [],
            "_model_module": "@jupyter-widgets/output",
            "_model_module_version": "1.0.0",
            "_model_name": "OutputModel",
            "_view_count": null,
            "_view_module": "@jupyter-widgets/output",
            "_view_module_version": "1.0.0",
            "_view_name": "OutputView",
            "layout": "IPY_MODEL_e97a7adaffa442ba863fed1d9d00b21b",
            "msg_id": "",
            "outputs": [
              {
                "data": {
                  "image/png": "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\n",
                  "text/plain": "<Figure size 640x480 with 1 Axes>"
                },
                "metadata": {},
                "output_type": "display_data"
              }
            ]
          }
        },
        "aa918965f7a9441580bc46626f474624": {
          "model_module": "@jupyter-widgets/base",
          "model_module_version": "1.2.0",
          "model_name": "LayoutModel",
          "state": {
            "_model_module": "@jupyter-widgets/base",
            "_model_module_version": "1.2.0",
            "_model_name": "LayoutModel",
            "_view_count": null,
            "_view_module": "@jupyter-widgets/base",
            "_view_module_version": "1.2.0",
            "_view_name": "LayoutView",
            "align_content": null,
            "align_items": null,
            "align_self": null,
            "border": null,
            "bottom": null,
            "display": null,
            "flex": null,
            "flex_flow": null,
            "grid_area": null,
            "grid_auto_columns": null,
            "grid_auto_flow": null,
            "grid_auto_rows": null,
            "grid_column": null,
            "grid_gap": null,
            "grid_row": null,
            "grid_template_areas": null,
            "grid_template_columns": null,
            "grid_template_rows": null,
            "height": null,
            "justify_content": null,
            "justify_items": null,
            "left": null,
            "margin": null,
            "max_height": null,
            "max_width": null,
            "min_height": null,
            "min_width": null,
            "object_fit": null,
            "object_position": null,
            "order": null,
            "overflow": null,
            "overflow_x": null,
            "overflow_y": null,
            "padding": null,
            "right": null,
            "top": null,
            "visibility": null,
            "width": null
          }
        },
        "b1e16a6af33043a285b936cff5157890": {
          "model_module": "@jupyter-widgets/controls",
          "model_module_version": "1.5.0",
          "model_name": "DescriptionStyleModel",
          "state": {
            "_model_module": "@jupyter-widgets/controls",
            "_model_module_version": "1.5.0",
            "_model_name": "DescriptionStyleModel",
            "_view_count": null,
            "_view_module": "@jupyter-widgets/base",
            "_view_module_version": "1.2.0",
            "_view_name": "StyleView",
            "description_width": ""
          }
        },
        "b7118faa704d411bacdf2944748e4529": {
          "model_module": "@jupyter-widgets/controls",
          "model_module_version": "1.5.0",
          "model_name": "VBoxModel",
          "state": {
            "_dom_classes": [
              "widget-interact"
            ],
            "_model_module": "@jupyter-widgets/controls",
            "_model_module_version": "1.5.0",
            "_model_name": "VBoxModel",
            "_view_count": null,
            "_view_module": "@jupyter-widgets/controls",
            "_view_module_version": "1.5.0",
            "_view_name": "VBoxView",
            "box_style": "",
            "children": [
              "IPY_MODEL_ef195d3954f64543ae32d7c54df6894e",
              "IPY_MODEL_e6580953b38245dc9b6e5be133657fec"
            ],
            "layout": "IPY_MODEL_f25c10efb03f46b8a492a46bd3f2f91f"
          }
        },
        "b97f0c1323044dcaa53312e78113770e": {
          "model_module": "@jupyter-widgets/base",
          "model_module_version": "1.2.0",
          "model_name": "LayoutModel",
          "state": {
            "_model_module": "@jupyter-widgets/base",
            "_model_module_version": "1.2.0",
            "_model_name": "LayoutModel",
            "_view_count": null,
            "_view_module": "@jupyter-widgets/base",
            "_view_module_version": "1.2.0",
            "_view_name": "LayoutView",
            "align_content": null,
            "align_items": null,
            "align_self": null,
            "border": null,
            "bottom": null,
            "display": null,
            "flex": null,
            "flex_flow": null,
            "grid_area": null,
            "grid_auto_columns": null,
            "grid_auto_flow": null,
            "grid_auto_rows": null,
            "grid_column": null,
            "grid_gap": null,
            "grid_row": null,
            "grid_template_areas": null,
            "grid_template_columns": null,
            "grid_template_rows": null,
            "height": null,
            "justify_content": null,
            "justify_items": null,
            "left": null,
            "margin": null,
            "max_height": null,
            "max_width": null,
            "min_height": null,
            "min_width": null,
            "object_fit": null,
            "object_position": null,
            "order": null,
            "overflow": null,
            "overflow_x": null,
            "overflow_y": null,
            "padding": null,
            "right": null,
            "top": null,
            "visibility": null,
            "width": null
          }
        },
        "b9d93e8471c646a4b7f3549191519261": {
          "model_module": "@jupyter-widgets/base",
          "model_module_version": "1.2.0",
          "model_name": "LayoutModel",
          "state": {
            "_model_module": "@jupyter-widgets/base",
            "_model_module_version": "1.2.0",
            "_model_name": "LayoutModel",
            "_view_count": null,
            "_view_module": "@jupyter-widgets/base",
            "_view_module_version": "1.2.0",
            "_view_name": "LayoutView",
            "align_content": null,
            "align_items": null,
            "align_self": null,
            "border": null,
            "bottom": null,
            "display": null,
            "flex": null,
            "flex_flow": null,
            "grid_area": null,
            "grid_auto_columns": null,
            "grid_auto_flow": null,
            "grid_auto_rows": null,
            "grid_column": null,
            "grid_gap": null,
            "grid_row": null,
            "grid_template_areas": null,
            "grid_template_columns": null,
            "grid_template_rows": null,
            "height": null,
            "justify_content": null,
            "justify_items": null,
            "left": null,
            "margin": null,
            "max_height": null,
            "max_width": null,
            "min_height": null,
            "min_width": null,
            "object_fit": null,
            "object_position": null,
            "order": null,
            "overflow": null,
            "overflow_x": null,
            "overflow_y": null,
            "padding": null,
            "right": null,
            "top": null,
            "visibility": null,
            "width": null
          }
        },
        "c067540cba8f4549bb45e71f59bd1d8c": {
          "model_module": "@jupyter-widgets/base",
          "model_module_version": "1.2.0",
          "model_name": "LayoutModel",
          "state": {
            "_model_module": "@jupyter-widgets/base",
            "_model_module_version": "1.2.0",
            "_model_name": "LayoutModel",
            "_view_count": null,
            "_view_module": "@jupyter-widgets/base",
            "_view_module_version": "1.2.0",
            "_view_name": "LayoutView",
            "align_content": null,
            "align_items": null,
            "align_self": null,
            "border": null,
            "bottom": null,
            "display": null,
            "flex": null,
            "flex_flow": null,
            "grid_area": null,
            "grid_auto_columns": null,
            "grid_auto_flow": null,
            "grid_auto_rows": null,
            "grid_column": null,
            "grid_gap": null,
            "grid_row": null,
            "grid_template_areas": null,
            "grid_template_columns": null,
            "grid_template_rows": null,
            "height": null,
            "justify_content": null,
            "justify_items": null,
            "left": null,
            "margin": null,
            "max_height": null,
            "max_width": null,
            "min_height": null,
            "min_width": null,
            "object_fit": null,
            "object_position": null,
            "order": null,
            "overflow": null,
            "overflow_x": null,
            "overflow_y": null,
            "padding": null,
            "right": null,
            "top": null,
            "visibility": null,
            "width": null
          }
        },
        "c32993463f454f06bef6666788b85a76": {
          "model_module": "@jupyter-widgets/base",
          "model_module_version": "1.2.0",
          "model_name": "LayoutModel",
          "state": {
            "_model_module": "@jupyter-widgets/base",
            "_model_module_version": "1.2.0",
            "_model_name": "LayoutModel",
            "_view_count": null,
            "_view_module": "@jupyter-widgets/base",
            "_view_module_version": "1.2.0",
            "_view_name": "LayoutView",
            "align_content": null,
            "align_items": null,
            "align_self": null,
            "border": null,
            "bottom": null,
            "display": null,
            "flex": null,
            "flex_flow": null,
            "grid_area": null,
            "grid_auto_columns": null,
            "grid_auto_flow": null,
            "grid_auto_rows": null,
            "grid_column": null,
            "grid_gap": null,
            "grid_row": null,
            "grid_template_areas": null,
            "grid_template_columns": null,
            "grid_template_rows": null,
            "height": null,
            "justify_content": null,
            "justify_items": null,
            "left": null,
            "margin": null,
            "max_height": null,
            "max_width": null,
            "min_height": null,
            "min_width": null,
            "object_fit": null,
            "object_position": null,
            "order": null,
            "overflow": null,
            "overflow_x": null,
            "overflow_y": null,
            "padding": null,
            "right": null,
            "top": null,
            "visibility": null,
            "width": null
          }
        },
        "c3c71c3e35ec46029686516dbdd89cd0": {
          "model_module": "@jupyter-widgets/base",
          "model_module_version": "1.2.0",
          "model_name": "LayoutModel",
          "state": {
            "_model_module": "@jupyter-widgets/base",
            "_model_module_version": "1.2.0",
            "_model_name": "LayoutModel",
            "_view_count": null,
            "_view_module": "@jupyter-widgets/base",
            "_view_module_version": "1.2.0",
            "_view_name": "LayoutView",
            "align_content": null,
            "align_items": null,
            "align_self": null,
            "border": null,
            "bottom": null,
            "display": null,
            "flex": null,
            "flex_flow": null,
            "grid_area": null,
            "grid_auto_columns": null,
            "grid_auto_flow": null,
            "grid_auto_rows": null,
            "grid_column": null,
            "grid_gap": null,
            "grid_row": null,
            "grid_template_areas": null,
            "grid_template_columns": null,
            "grid_template_rows": null,
            "height": null,
            "justify_content": null,
            "justify_items": null,
            "left": null,
            "margin": null,
            "max_height": null,
            "max_width": null,
            "min_height": null,
            "min_width": null,
            "object_fit": null,
            "object_position": null,
            "order": null,
            "overflow": null,
            "overflow_x": null,
            "overflow_y": null,
            "padding": null,
            "right": null,
            "top": null,
            "visibility": null,
            "width": null
          }
        },
        "cb2b8ec25ea64161a65266f1bdbc0839": {
          "model_module": "@jupyter-widgets/controls",
          "model_module_version": "1.5.0",
          "model_name": "VBoxModel",
          "state": {
            "_dom_classes": [
              "widget-interact"
            ],
            "_model_module": "@jupyter-widgets/controls",
            "_model_module_version": "1.5.0",
            "_model_name": "VBoxModel",
            "_view_count": null,
            "_view_module": "@jupyter-widgets/controls",
            "_view_module_version": "1.5.0",
            "_view_name": "VBoxView",
            "box_style": "",
            "children": [
              "IPY_MODEL_8101843ac5f2441988988306355c27b5",
              "IPY_MODEL_8d5a5d749d6347928bc6b39bf0c460d6"
            ],
            "layout": "IPY_MODEL_c3c71c3e35ec46029686516dbdd89cd0"
          }
        },
        "cd9091d4a10346a692a5c1099cceb53a": {
          "model_module": "@jupyter-widgets/base",
          "model_module_version": "1.2.0",
          "model_name": "LayoutModel",
          "state": {
            "_model_module": "@jupyter-widgets/base",
            "_model_module_version": "1.2.0",
            "_model_name": "LayoutModel",
            "_view_count": null,
            "_view_module": "@jupyter-widgets/base",
            "_view_module_version": "1.2.0",
            "_view_name": "LayoutView",
            "align_content": null,
            "align_items": null,
            "align_self": null,
            "border": null,
            "bottom": null,
            "display": null,
            "flex": null,
            "flex_flow": null,
            "grid_area": null,
            "grid_auto_columns": null,
            "grid_auto_flow": null,
            "grid_auto_rows": null,
            "grid_column": null,
            "grid_gap": null,
            "grid_row": null,
            "grid_template_areas": null,
            "grid_template_columns": null,
            "grid_template_rows": null,
            "height": null,
            "justify_content": null,
            "justify_items": null,
            "left": null,
            "margin": null,
            "max_height": null,
            "max_width": null,
            "min_height": null,
            "min_width": null,
            "object_fit": null,
            "object_position": null,
            "order": null,
            "overflow": null,
            "overflow_x": null,
            "overflow_y": null,
            "padding": null,
            "right": null,
            "top": null,
            "visibility": null,
            "width": null
          }
        },
        "ce35c58e122c49cb912739be19febfac": {
          "model_module": "@jupyter-widgets/base",
          "model_module_version": "1.2.0",
          "model_name": "LayoutModel",
          "state": {
            "_model_module": "@jupyter-widgets/base",
            "_model_module_version": "1.2.0",
            "_model_name": "LayoutModel",
            "_view_count": null,
            "_view_module": "@jupyter-widgets/base",
            "_view_module_version": "1.2.0",
            "_view_name": "LayoutView",
            "align_content": null,
            "align_items": null,
            "align_self": null,
            "border": null,
            "bottom": null,
            "display": null,
            "flex": null,
            "flex_flow": null,
            "grid_area": null,
            "grid_auto_columns": null,
            "grid_auto_flow": null,
            "grid_auto_rows": null,
            "grid_column": null,
            "grid_gap": null,
            "grid_row": null,
            "grid_template_areas": null,
            "grid_template_columns": null,
            "grid_template_rows": null,
            "height": null,
            "justify_content": null,
            "justify_items": null,
            "left": null,
            "margin": null,
            "max_height": null,
            "max_width": null,
            "min_height": null,
            "min_width": null,
            "object_fit": null,
            "object_position": null,
            "order": null,
            "overflow": null,
            "overflow_x": null,
            "overflow_y": null,
            "padding": null,
            "right": null,
            "top": null,
            "visibility": null,
            "width": null
          }
        },
        "db15bec5ee1d4a23b1c392e254228c86": {
          "model_module": "@jupyter-widgets/controls",
          "model_module_version": "1.5.0",
          "model_name": "DropdownModel",
          "state": {
            "_dom_classes": [],
            "_model_module": "@jupyter-widgets/controls",
            "_model_module_version": "1.5.0",
            "_model_name": "DropdownModel",
            "_options_labels": [
              "Vermelho",
              "Azul",
              "Verde"
            ],
            "_view_count": null,
            "_view_module": "@jupyter-widgets/controls",
            "_view_module_version": "1.5.0",
            "_view_name": "DropdownView",
            "description": "color",
            "description_tooltip": null,
            "disabled": false,
            "index": 0,
            "layout": "IPY_MODEL_2bdb9b934dff41e6a8daaa1ab9872aaf",
            "style": "IPY_MODEL_f9551c480a984277abc45fae5052b939"
          }
        },
        "db762606b0c94b109f03c407ab9a6b79": {
          "model_module": "@jupyter-widgets/output",
          "model_module_version": "1.0.0",
          "model_name": "OutputModel",
          "state": {
            "_dom_classes": [],
            "_model_module": "@jupyter-widgets/output",
            "_model_module_version": "1.0.0",
            "_model_name": "OutputModel",
            "_view_count": null,
            "_view_module": "@jupyter-widgets/output",
            "_view_module_version": "1.0.0",
            "_view_name": "OutputView",
            "layout": "IPY_MODEL_240832c0795f4c54b7e90104e1979bbc",
            "msg_id": "",
            "outputs": [
              {
                "data": {
                  "image/png": "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\n",
                  "text/plain": "<Figure size 640x480 with 1 Axes>"
                },
                "metadata": {},
                "output_type": "display_data"
              }
            ]
          }
        },
        "ddd73cdea69e49c899c5205e4729c59a": {
          "model_module": "@jupyter-widgets/base",
          "model_module_version": "1.2.0",
          "model_name": "LayoutModel",
          "state": {
            "_model_module": "@jupyter-widgets/base",
            "_model_module_version": "1.2.0",
            "_model_name": "LayoutModel",
            "_view_count": null,
            "_view_module": "@jupyter-widgets/base",
            "_view_module_version": "1.2.0",
            "_view_name": "LayoutView",
            "align_content": null,
            "align_items": null,
            "align_self": null,
            "border": null,
            "bottom": null,
            "display": null,
            "flex": null,
            "flex_flow": null,
            "grid_area": null,
            "grid_auto_columns": null,
            "grid_auto_flow": null,
            "grid_auto_rows": null,
            "grid_column": null,
            "grid_gap": null,
            "grid_row": null,
            "grid_template_areas": null,
            "grid_template_columns": null,
            "grid_template_rows": null,
            "height": null,
            "justify_content": null,
            "justify_items": null,
            "left": null,
            "margin": null,
            "max_height": null,
            "max_width": null,
            "min_height": null,
            "min_width": null,
            "object_fit": null,
            "object_position": null,
            "order": null,
            "overflow": null,
            "overflow_x": null,
            "overflow_y": null,
            "padding": null,
            "right": null,
            "top": null,
            "visibility": null,
            "width": null
          }
        },
        "e0ed3912c7e24eeaa2074538a9be5ebf": {
          "model_module": "@jupyter-widgets/controls",
          "model_module_version": "1.5.0",
          "model_name": "SliderStyleModel",
          "state": {
            "_model_module": "@jupyter-widgets/controls",
            "_model_module_version": "1.5.0",
            "_model_name": "SliderStyleModel",
            "_view_count": null,
            "_view_module": "@jupyter-widgets/base",
            "_view_module_version": "1.2.0",
            "_view_name": "StyleView",
            "description_width": "",
            "handle_color": null
          }
        },
        "e6580953b38245dc9b6e5be133657fec": {
          "model_module": "@jupyter-widgets/output",
          "model_module_version": "1.0.0",
          "model_name": "OutputModel",
          "state": {
            "_dom_classes": [],
            "_model_module": "@jupyter-widgets/output",
            "_model_module_version": "1.0.0",
            "_model_name": "OutputModel",
            "_view_count": null,
            "_view_module": "@jupyter-widgets/output",
            "_view_module_version": "1.0.0",
            "_view_name": "OutputView",
            "layout": "IPY_MODEL_11fbfb6a9a13487badef9a2158c5cd5a",
            "msg_id": "",
            "outputs": [
              {
                "data": {
                  "image/png": "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\n",
                  "text/plain": "<Figure size 640x480 with 1 Axes>"
                },
                "metadata": {},
                "output_type": "display_data"
              }
            ]
          }
        },
        "e8d9b56565d54c38b16de3d29aafdab4": {
          "model_module": "@jupyter-widgets/controls",
          "model_module_version": "1.5.0",
          "model_name": "SliderStyleModel",
          "state": {
            "_model_module": "@jupyter-widgets/controls",
            "_model_module_version": "1.5.0",
            "_model_name": "SliderStyleModel",
            "_view_count": null,
            "_view_module": "@jupyter-widgets/base",
            "_view_module_version": "1.2.0",
            "_view_name": "StyleView",
            "description_width": "",
            "handle_color": null
          }
        },
        "e8ed0264545c4b91bd14896b10923b8e": {
          "model_module": "@jupyter-widgets/base",
          "model_module_version": "1.2.0",
          "model_name": "LayoutModel",
          "state": {
            "_model_module": "@jupyter-widgets/base",
            "_model_module_version": "1.2.0",
            "_model_name": "LayoutModel",
            "_view_count": null,
            "_view_module": "@jupyter-widgets/base",
            "_view_module_version": "1.2.0",
            "_view_name": "LayoutView",
            "align_content": null,
            "align_items": null,
            "align_self": null,
            "border": null,
            "bottom": null,
            "display": null,
            "flex": null,
            "flex_flow": null,
            "grid_area": null,
            "grid_auto_columns": null,
            "grid_auto_flow": null,
            "grid_auto_rows": null,
            "grid_column": null,
            "grid_gap": null,
            "grid_row": null,
            "grid_template_areas": null,
            "grid_template_columns": null,
            "grid_template_rows": null,
            "height": null,
            "justify_content": null,
            "justify_items": null,
            "left": null,
            "margin": null,
            "max_height": null,
            "max_width": null,
            "min_height": null,
            "min_width": null,
            "object_fit": null,
            "object_position": null,
            "order": null,
            "overflow": null,
            "overflow_x": null,
            "overflow_y": null,
            "padding": null,
            "right": null,
            "top": null,
            "visibility": null,
            "width": null
          }
        },
        "e978ddfcb8554fa1b7e470fad5508b52": {
          "model_module": "@jupyter-widgets/output",
          "model_module_version": "1.0.0",
          "model_name": "OutputModel",
          "state": {
            "_dom_classes": [],
            "_model_module": "@jupyter-widgets/output",
            "_model_module_version": "1.0.0",
            "_model_name": "OutputModel",
            "_view_count": null,
            "_view_module": "@jupyter-widgets/output",
            "_view_module_version": "1.0.0",
            "_view_name": "OutputView",
            "layout": "IPY_MODEL_c067540cba8f4549bb45e71f59bd1d8c",
            "msg_id": "",
            "outputs": [
              {
                "data": {
                  "image/png": "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\n",
                  "text/plain": "<Figure size 640x480 with 1 Axes>"
                },
                "metadata": {},
                "output_type": "display_data"
              }
            ]
          }
        },
        "e97a7adaffa442ba863fed1d9d00b21b": {
          "model_module": "@jupyter-widgets/base",
          "model_module_version": "1.2.0",
          "model_name": "LayoutModel",
          "state": {
            "_model_module": "@jupyter-widgets/base",
            "_model_module_version": "1.2.0",
            "_model_name": "LayoutModel",
            "_view_count": null,
            "_view_module": "@jupyter-widgets/base",
            "_view_module_version": "1.2.0",
            "_view_name": "LayoutView",
            "align_content": null,
            "align_items": null,
            "align_self": null,
            "border": null,
            "bottom": null,
            "display": null,
            "flex": null,
            "flex_flow": null,
            "grid_area": null,
            "grid_auto_columns": null,
            "grid_auto_flow": null,
            "grid_auto_rows": null,
            "grid_column": null,
            "grid_gap": null,
            "grid_row": null,
            "grid_template_areas": null,
            "grid_template_columns": null,
            "grid_template_rows": null,
            "height": null,
            "justify_content": null,
            "justify_items": null,
            "left": null,
            "margin": null,
            "max_height": null,
            "max_width": null,
            "min_height": null,
            "min_width": null,
            "object_fit": null,
            "object_position": null,
            "order": null,
            "overflow": null,
            "overflow_x": null,
            "overflow_y": null,
            "padding": null,
            "right": null,
            "top": null,
            "visibility": null,
            "width": null
          }
        },
        "eef00e39f1da4c07b4647056b332efb2": {
          "model_module": "@jupyter-widgets/controls",
          "model_module_version": "1.5.0",
          "model_name": "VBoxModel",
          "state": {
            "_dom_classes": [
              "widget-interact"
            ],
            "_model_module": "@jupyter-widgets/controls",
            "_model_module_version": "1.5.0",
            "_model_name": "VBoxModel",
            "_view_count": null,
            "_view_module": "@jupyter-widgets/controls",
            "_view_module_version": "1.5.0",
            "_view_name": "VBoxView",
            "box_style": "",
            "children": [
              "IPY_MODEL_0f17724e93f64b7289d32432aedef662",
              "IPY_MODEL_71d3a0a5d1ba4b24b3445ac40687fc3d",
              "IPY_MODEL_77d742ed35cf428d9354d82a9a519ac1"
            ],
            "layout": "IPY_MODEL_000d00b39c2c41eda6aaeb8a286b2056"
          }
        },
        "ef195d3954f64543ae32d7c54df6894e": {
          "model_module": "@jupyter-widgets/controls",
          "model_module_version": "1.5.0",
          "model_name": "DropdownModel",
          "state": {
            "_dom_classes": [],
            "_model_module": "@jupyter-widgets/controls",
            "_model_module_version": "1.5.0",
            "_model_name": "DropdownModel",
            "_options_labels": [
              "Red",
              "Blue",
              "Green"
            ],
            "_view_count": null,
            "_view_module": "@jupyter-widgets/controls",
            "_view_module_version": "1.5.0",
            "_view_name": "DropdownView",
            "description": "color",
            "description_tooltip": null,
            "disabled": false,
            "index": 1,
            "layout": "IPY_MODEL_aa918965f7a9441580bc46626f474624",
            "style": "IPY_MODEL_b1e16a6af33043a285b936cff5157890"
          }
        },
        "f25c10efb03f46b8a492a46bd3f2f91f": {
          "model_module": "@jupyter-widgets/base",
          "model_module_version": "1.2.0",
          "model_name": "LayoutModel",
          "state": {
            "_model_module": "@jupyter-widgets/base",
            "_model_module_version": "1.2.0",
            "_model_name": "LayoutModel",
            "_view_count": null,
            "_view_module": "@jupyter-widgets/base",
            "_view_module_version": "1.2.0",
            "_view_name": "LayoutView",
            "align_content": null,
            "align_items": null,
            "align_self": null,
            "border": null,
            "bottom": null,
            "display": null,
            "flex": null,
            "flex_flow": null,
            "grid_area": null,
            "grid_auto_columns": null,
            "grid_auto_flow": null,
            "grid_auto_rows": null,
            "grid_column": null,
            "grid_gap": null,
            "grid_row": null,
            "grid_template_areas": null,
            "grid_template_columns": null,
            "grid_template_rows": null,
            "height": null,
            "justify_content": null,
            "justify_items": null,
            "left": null,
            "margin": null,
            "max_height": null,
            "max_width": null,
            "min_height": null,
            "min_width": null,
            "object_fit": null,
            "object_position": null,
            "order": null,
            "overflow": null,
            "overflow_x": null,
            "overflow_y": null,
            "padding": null,
            "right": null,
            "top": null,
            "visibility": null,
            "width": null
          }
        },
        "f9551c480a984277abc45fae5052b939": {
          "model_module": "@jupyter-widgets/controls",
          "model_module_version": "1.5.0",
          "model_name": "DescriptionStyleModel",
          "state": {
            "_model_module": "@jupyter-widgets/controls",
            "_model_module_version": "1.5.0",
            "_model_name": "DescriptionStyleModel",
            "_view_count": null,
            "_view_module": "@jupyter-widgets/base",
            "_view_module_version": "1.2.0",
            "_view_name": "StyleView",
            "description_width": ""
          }
        },
        "ffdb01c863c043cbbdc3691b14d6be32": {
          "model_module": "@jupyter-widgets/output",
          "model_module_version": "1.0.0",
          "model_name": "OutputModel",
          "state": {
            "_dom_classes": [],
            "_model_module": "@jupyter-widgets/output",
            "_model_module_version": "1.0.0",
            "_model_name": "OutputModel",
            "_view_count": null,
            "_view_module": "@jupyter-widgets/output",
            "_view_module_version": "1.0.0",
            "_view_name": "OutputView",
            "layout": "IPY_MODEL_7654eaf9ec614a798aac61680f256a7d",
            "msg_id": "",
            "outputs": [
              {
                "data": {
                  "image/png": "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\n",
                  "text/plain": "<Figure size 640x480 with 1 Axes>"
                },
                "metadata": {},
                "output_type": "display_data"
              }
            ]
          }
        }
      }
    }
  },
  "nbformat": 4,
  "nbformat_minor": 0
}

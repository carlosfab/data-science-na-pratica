{
  "cells": [
    {
      "cell_type": "markdown",
      "metadata": {
        "id": "U5jlu9t2BlWY"
      },
      "source": [
        "<img alt=\"Colaboratory logo\" width=\"15%\" src=\"https://raw.githubusercontent.com/carlosfab/escola-data-science/master/img/novo_logo_bg_claro.png\">\n",
        "\n",
        "#### **Data Science na Prática**\n",
        "*by [sigmoidal.ai](https://sigmoidal.ai)*\n",
        "\n",
        "---"
      ]
    },
    {
      "cell_type": "markdown",
      "metadata": {
        "id": "u9gCMTNzs4bv"
      },
      "source": [
        "# Gráfico de Waffle\n",
        "\n",
        "Se o nome não é familiar, com certeza você já viu vários exemplos de *waffle charts* em sites, revistas e jornais, pois eles não apenas transmitem informações claramente, mas são visualmente mais impactantes que gráficos de barras ou pizza.\n",
        "\n",
        "<img src=\"https://baryon.be/wp-content/uploads/2020/04/waffle-chart-01.jpg\" height=\"250px\">\n",
        "\n",
        "A figura acima mostra como a biblioteca `pywaffle` foi usada para mostrar pictorialmente o resultado das eleições dos EUA em 2016.\n",
        "\n",
        "Pode reparar, os grandes meios de comunicação preferem esse tipo de visualização, pois nem todo mundo está acostumado a interpretar gráficos de linhas ou barras.\n",
        "\n",
        "Como vamos ver abaixo, a biblioteca tem muitas outras formas de customização, e recomendo você incluir ela no seu arsenal de ferramentas."
      ]
    },
    {
      "cell_type": "markdown",
      "metadata": {
        "id": "nZ12mejMuUCN"
      },
      "source": [
        "## Usando `pywaffle` para criar gráficos de waffle\n",
        "\n",
        "Infelizmente, gráficos de waffle não vêm junto com a biblioteca `matplotlib`. A melhor alternatica que eu conheço é o pacote `pywaffle`, uma vez que ele se integra perfeitamente ao `matplotlib`.\n",
        "\n",
        "[Bem documentada](https://github.com/gyli/PyWaffle) e com vários exemplos de aplicação, em poucas linhas de código você já consegue plotar seu primeiro gráfico.\n",
        "\n",
        "Ah sim, verifique antes se você têm ela instalada no seu ambiente. Caso contrário, basta instalar usando o conda (`conda install pywaffle`) ou pip (`pip install pywaffle`)."
      ]
    },
    {
      "cell_type": "code",
      "execution_count": null,
      "metadata": {
        "colab": {
          "base_uri": "https://localhost:8080/"
        },
        "id": "RJiTOwmQxf6D",
        "outputId": "1776472a-8e3b-4e32-94d5-a852be95711f"
      },
      "outputs": [
        {
          "name": "stdout",
          "output_type": "stream",
          "text": [
            "\u001b[?25l\r\u001b[K     |▋                               | 10 kB 24.1 MB/s eta 0:00:01\r\u001b[K     |█▎                              | 20 kB 17.5 MB/s eta 0:00:01\r\u001b[K     |█▉                              | 30 kB 21.7 MB/s eta 0:00:01\r\u001b[K     |██▌                             | 40 kB 21.4 MB/s eta 0:00:01\r\u001b[K     |███                             | 51 kB 9.0 MB/s eta 0:00:01\r\u001b[K     |███▊                            | 61 kB 7.6 MB/s eta 0:00:01\r\u001b[K     |████▍                           | 71 kB 8.0 MB/s eta 0:00:01\r\u001b[K     |█████                           | 81 kB 8.9 MB/s eta 0:00:01\r\u001b[K     |█████▋                          | 92 kB 9.8 MB/s eta 0:00:01\r\u001b[K     |██████▏                         | 102 kB 8.2 MB/s eta 0:00:01\r\u001b[K     |██████▉                         | 112 kB 8.2 MB/s eta 0:00:01\r\u001b[K     |███████▌                        | 122 kB 8.2 MB/s eta 0:00:01\r\u001b[K     |████████                        | 133 kB 8.2 MB/s eta 0:00:01\r\u001b[K     |████████▊                       | 143 kB 8.2 MB/s eta 0:00:01\r\u001b[K     |█████████▎                      | 153 kB 8.2 MB/s eta 0:00:01\r\u001b[K     |██████████                      | 163 kB 8.2 MB/s eta 0:00:01\r\u001b[K     |██████████▋                     | 174 kB 8.2 MB/s eta 0:00:01\r\u001b[K     |███████████▏                    | 184 kB 8.2 MB/s eta 0:00:01\r\u001b[K     |███████████▉                    | 194 kB 8.2 MB/s eta 0:00:01\r\u001b[K     |████████████▍                   | 204 kB 8.2 MB/s eta 0:00:01\r\u001b[K     |█████████████                   | 215 kB 8.2 MB/s eta 0:00:01\r\u001b[K     |█████████████▊                  | 225 kB 8.2 MB/s eta 0:00:01\r\u001b[K     |██████████████▎                 | 235 kB 8.2 MB/s eta 0:00:01\r\u001b[K     |███████████████                 | 245 kB 8.2 MB/s eta 0:00:01\r\u001b[K     |███████████████▌                | 256 kB 8.2 MB/s eta 0:00:01\r\u001b[K     |████████████████▏               | 266 kB 8.2 MB/s eta 0:00:01\r\u001b[K     |████████████████▉               | 276 kB 8.2 MB/s eta 0:00:01\r\u001b[K     |█████████████████▍              | 286 kB 8.2 MB/s eta 0:00:01\r\u001b[K     |██████████████████              | 296 kB 8.2 MB/s eta 0:00:01\r\u001b[K     |██████████████████▋             | 307 kB 8.2 MB/s eta 0:00:01\r\u001b[K     |███████████████████▎            | 317 kB 8.2 MB/s eta 0:00:01\r\u001b[K     |████████████████████            | 327 kB 8.2 MB/s eta 0:00:01\r\u001b[K     |████████████████████▌           | 337 kB 8.2 MB/s eta 0:00:01\r\u001b[K     |█████████████████████▏          | 348 kB 8.2 MB/s eta 0:00:01\r\u001b[K     |█████████████████████▊          | 358 kB 8.2 MB/s eta 0:00:01\r\u001b[K     |██████████████████████▍         | 368 kB 8.2 MB/s eta 0:00:01\r\u001b[K     |███████████████████████         | 378 kB 8.2 MB/s eta 0:00:01\r\u001b[K     |███████████████████████▋        | 389 kB 8.2 MB/s eta 0:00:01\r\u001b[K     |████████████████████████▎       | 399 kB 8.2 MB/s eta 0:00:01\r\u001b[K     |████████████████████████▉       | 409 kB 8.2 MB/s eta 0:00:01\r\u001b[K     |█████████████████████████▌      | 419 kB 8.2 MB/s eta 0:00:01\r\u001b[K     |██████████████████████████▏     | 430 kB 8.2 MB/s eta 0:00:01\r\u001b[K     |██████████████████████████▊     | 440 kB 8.2 MB/s eta 0:00:01\r\u001b[K     |███████████████████████████▍    | 450 kB 8.2 MB/s eta 0:00:01\r\u001b[K     |████████████████████████████    | 460 kB 8.2 MB/s eta 0:00:01\r\u001b[K     |████████████████████████████▋   | 471 kB 8.2 MB/s eta 0:00:01\r\u001b[K     |█████████████████████████████▎  | 481 kB 8.2 MB/s eta 0:00:01\r\u001b[K     |█████████████████████████████▉  | 491 kB 8.2 MB/s eta 0:00:01\r\u001b[K     |██████████████████████████████▌ | 501 kB 8.2 MB/s eta 0:00:01\r\u001b[K     |███████████████████████████████ | 512 kB 8.2 MB/s eta 0:00:01\r\u001b[K     |███████████████████████████████▊| 522 kB 8.2 MB/s eta 0:00:01\r\u001b[K     |████████████████████████████████| 526 kB 8.2 MB/s \n",
            "\u001b[?25h"
          ]
        }
      ],
      "source": [
        "# instalar o pywaffle\n",
        "!pip install pywaffle -q"
      ]
    },
    {
      "cell_type": "markdown",
      "metadata": {
        "id": "qLYYNOX50Nn8"
      },
      "source": [
        "Vamos supor que uma pesquisa muito séria da Folha de São Paulo identificou que 33% dos brasileiros falam Bolacha, 48% falam Biscoito e uma minoria de 19% fala Salgadinho.\n",
        "\n",
        "No lugar de plotar um manjado gráfico de pizza, olha como ficaria usando o gráfico de waffle."
      ]
    },
    {
      "cell_type": "code",
      "execution_count": null,
      "metadata": {
        "colab": {
          "base_uri": "https://localhost:8080/",
          "height": 161
        },
        "id": "hAk6bw5TwQ_c",
        "outputId": "096fedbb-62f8-4d30-8520-10cf0a84666e"
      },
      "outputs": [
        {
          "data": {
            "image/png": "[encoded data removed]",
            "text/plain": [
              "<Waffle size 432x288 with 1 Axes>"
            ]
          },
          "metadata": {
            "needs_background": "light",
            "tags": []
          },
          "output_type": "display_data"
        }
      ],
      "source": [
        "# importar as bibliotecas necessárias\n",
        "import matplotlib.pyplot as plt\n",
        "from pywaffle import Waffle\n",
        "\n",
        "# exemplo de Waffle\n",
        "fig = plt.figure(\n",
        "                FigureClass=Waffle,\n",
        "                rows=4,\n",
        "                columns=10,\n",
        "                values={'Bolacha': 33,\n",
        "                        'Biscoito': 48,\n",
        "                        'Salgadinho': 19},\n",
        "                legend={'loc': 'upper left',\n",
        "                        'bbox_to_anchor': (1.1, 1)}\n",
        "                )\n",
        "\n",
        "fig.set_tight_layout(False)\n",
        "plt.show()"
      ]
    },
    {
      "cell_type": "markdown",
      "metadata": {
        "id": "1w_EUk_pyRGf"
      },
      "source": [
        "## Customizando seus gráficos de waffle\n",
        "\n",
        "O `pywaffle` é altamente customizado e aceita os ícones da [Font Awesome](http://fontawesome.io/).\n",
        "\n",
        "Vamos ver como customizar os ícones da biblioteca para representar as estatísticas de ocorrências e acidentes com aviões no Brasil. Para isso, vou importar a [base de dados do Centro de Prevenção e Investigação de Acidentes Aeronáuticos](http://www2.fab.mil.br/cenipa/index.php/estatisticas).\n",
        "\n"
      ]
    },
    {
      "cell_type": "code",
      "execution_count": null,
      "metadata": {
        "colab": {
          "base_uri": "https://localhost:8080/",
          "height": 141
        },
        "id": "8AjO5zZN1obp",
        "outputId": "f84db7f2-afa8-4305-8ebb-9284cc028dd7"
      },
      "outputs": [
        {
          "data": {
            "image/png": "[encoded data removed]",
            "text/plain": [
              "<Waffle size 432x288 with 1 Axes>"
            ]
          },
          "metadata": {
            "needs_background": "light",
            "tags": []
          },
          "output_type": "display_data"
        }
      ],
      "source": [
        "# importar o pandas\n",
        "import pandas as pd\n",
        "\n",
        "# importar dados do CENIPA\n",
        "df = pd.read_csv(\"https://raw.githubusercontent.com/carlosfab/dsnp2/master/datasets/ocorrencias_aviacao.csv\")\n",
        "\n",
        "# extrair value counts da variavel ocorrencia_classificacao\n",
        "data = df.ocorrencia_classificacao.value_counts().to_dict()\n",
        "\n",
        "# plotar gráfico de waffle\n",
        "fig = plt.figure(\n",
        "                FigureClass=Waffle,\n",
        "                rows=5,\n",
        "                columns=15,\n",
        "                colors=(\"#232066\", \"#983D3D\", \"#DCB732\"),\n",
        "                values=data, icons='video', icon_size=12,\n",
        "                legend={'loc': 'upper left', 'bbox_to_anchor': (1,1)},\n",
        "                icon_legend=True\n",
        "                )\n",
        "fig.set_tight_layout(False)\n",
        "plt.show();"
      ]
    },
    {
      "cell_type": "markdown",
      "metadata": {
        "id": "9XxbcYjE2c0c"
      },
      "source": [
        "Na figura acima, eu selecionei o ícone `plane`, que é apenas um entre inúmeros outros disponíveis.\n",
        "\n",
        "Em outro exemplo, suponha que você quer representar por *waffle chart* a quantidade de homens e mulheres que estão matriculados em um determinado curso de ingles. Repare que eu vou usar o ícone `child`."
      ]
    },
    {
      "cell_type": "code",
      "execution_count": null,
      "metadata": {
        "colab": {
          "base_uri": "https://localhost:8080/",
          "height": 222
        },
        "id": "Aqno4q4G1_5X",
        "outputId": "f4530b9e-47c3-4a34-d64a-f0cebbed1731"
      },
      "outputs": [
        {
          "data": {
            "image/png": "[encoded data removed]",
            "text/plain": [
              "<Waffle size 432x288 with 1 Axes>"
            ]
          },
          "metadata": {
            "needs_background": "light",
            "tags": []
          },
          "output_type": "display_data"
        }
      ],
      "source": [
        "# plotar homens e mulheres na sala de aula\n",
        "fig = plt.figure(\n",
        "    FigureClass=Waffle,\n",
        "    rows=8,\n",
        "    values={'Homens': 48, 'Mulheres': 58},\n",
        "    colors=(\"#232066\", \"#983D3D\"),\n",
        "    legend={'loc': 'upper left', 'bbox_to_anchor': (1, 1)},\n",
        "    icons='child', icon_size=12,\n",
        "    icon_legend=True\n",
        ")\n",
        "\n",
        "fig.set_tight_layout(False)\n",
        "plt.show();"
      ]
    },
    {
      "cell_type": "code",
      "execution_count": null,
      "metadata": {
        "id": "gRzWc_Q5E4mA"
      },
      "outputs": [],
      "source": []
    }
  ],
  "metadata": {
    "colab": {
      "provenance": []
    },
    "kernelspec": {
      "display_name": "Python 3",
      "name": "python3"
    }
  },
  "nbformat": 4,
  "nbformat_minor": 0
}

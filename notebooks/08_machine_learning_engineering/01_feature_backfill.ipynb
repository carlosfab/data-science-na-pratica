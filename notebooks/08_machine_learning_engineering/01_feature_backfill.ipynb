{
 "cells": [
  {
   "cell_type": "markdown",
   "metadata": {},
   "source": [
    "### Licença\n",
    "\n",
    "Este Jupyter Notebook foi adaptado a partir do [tutorial oficial da Hopsworks](https://github.com/logicalclocks/hopsworks-tutorials/tree/master/advanced_tutorials/citibike), que está sob a [GNU Affero General Public License v3.0 (AGPLv3)](https://www.gnu.org/licenses/agpl-3.0.html). Em conformidade com esta licença, este trabalho e todas as obras derivadas devem também ser compartilhadas sob os mesmos termos.\n"
   ]
  },
  {
   "cell_type": "markdown",
   "metadata": {},
   "source": [
    "# Previsão de Uso do Citibike\n",
    "\n",
    "<small>01. Feature Backfill</small>\n",
    "\n",
    "<center>\n",
    "<img src='../../assets/m08_projeto_banner.png' alt='Penguins' width=\"600\">\n",
    "</center>\n",
    "\n",
    "🗒️ O objetivo deste projeto é demonstrar criar uma solução real de *Machine Learning* para prever o número de usuários da Citi Bike em cada estação na cidade de Nova York. Especificamente, você irá criar uma *Feature Store* com o Hopsworks, e fazer o *deploy* de uma aplicação com o Streamlit. Este projeto está dividido nas seguintes partes:\n",
    "\n",
    "- **Backfill de Features**: Como carregar, engenhar e criar grupos de features.\n",
    "- **Pipeline de Features**: Como analisar novos dados e inseri-los nos grupos de features.\n",
    "- **Pipeline de Treinamento**: Como construir uma visualização de features, divisão do conjunto de dados de treinamento, treinar um modelo e salvá-lo no Registro de Modelos.\n",
    "- **Pipeline de Inferência**: Como recuperar um modelo treinado do registro de modelos e usá-lo para inferência em lote.\n",
    "- **Implantar um aplicativo Streamlit**."
   ]
  },
  {
   "cell_type": "markdown",
   "metadata": {},
   "source": [
    "# Previsão de Uso da Citibike\n",
    "\n",
    "Este é um exemplo avançado do uso do Hopsworks Feature Store, com a tarefa de prever o número de usuários da Citibike em cada estação na cidade de Nova York. O Feature Store é uma parte essencial da infraestrutura de IA que ajuda as organizações a trazer dados empresariais modernos para sistemas de ML analíticos e operacionais. É a maneira mais simples e poderosa de levar seus modelos para a produção, de qualquer lugar para qualquer lugar. Você carregará os dados iniciais no feature store, criará dois grupos de features a partir dos quais faremos uma visualização de features e um conjunto de dados de treinamento, e treinará um modelo para prever a quantidade de usuários. Além disso, você projetará um pipeline de geração de dados e inserção no Feature Store, que será executado periodicamente usando ações do GitHub. Um aplicativo Streamlit será criado para que você possa experimentar seu modelo de maneira interativa.\n",
    "\n",
    "Este é um caso de uso em lote, que oferecerá uma visão de alto nível sobre como usar nossas APIs Python e a interface do usuário para navegar pelos grupos de features.\n"
   ]
  },
  {
   "cell_type": "code",
   "execution_count": 1,
   "metadata": {},
   "outputs": [],
   "source": [
    "# Carregar variáveis de ambiente\n",
    "from dotenv import load_dotenv\n",
    "import os\n",
    "load_dotenv()\n",
    "\n",
    "# Bibliotecas padrão e de data/hora\n",
    "from datetime import timedelta, datetime\n",
    "\n",
    "# Bibliotecas de análise de dados\n",
    "import pandas as pd\n",
    "from pandas.tseries.holiday import USFederalHolidayCalendar\n",
    "\n",
    "# Bibliotecas de visualização\n",
    "import plotly.express as px\n",
    "\n",
    "# Módulos específicos do projeto\n",
    "import sigmoidal as sig\n",
    "\n",
    "# Configurações gerais\n",
    "import warnings\n",
    "warnings.filterwarnings(\"ignore\")  # Ignorar avisos\n"
   ]
  },
  {
   "cell_type": "code",
   "execution_count": 2,
   "metadata": {},
   "outputs": [],
   "source": [
    "HOPSWORKS_API_KEY = os.getenv(\"HOPSWORKS_API_KEY\")\n",
    "HOPSWORKS_PROJECT_NAME = 'sigmoidal'"
   ]
  },
  {
   "cell_type": "code",
   "execution_count": 3,
   "metadata": {},
   "outputs": [
    {
     "name": "stdout",
     "output_type": "stream",
     "text": [
      "_____ Processando 01/2023... _____\n",
      "https://s3.amazonaws.com/tripdata/202301-citibike-tripdata.csv.zip\n",
      "Download iniciado...⏳\n",
      "Download concluído!👌\n",
      "Recuperando DataFrame do arquivo csv...💿\n",
      "--------------------------------\n",
      "        date station_id  users_count\n",
      "0 2023-01-01    2733.03            4\n",
      "1 2023-01-01    2782.02            2\n",
      "2 2023-01-01    2821.05            4\n",
      "3 2023-01-01    2832.03            6\n",
      "4 2023-01-01    2872.02            1\n",
      "         date station_id  users_count\n",
      "6  2023-01-01    2932.03            3\n",
      "7  2023-01-01    2951.05            2\n",
      "19 2023-01-01    3117.05           10\n",
      "20 2023-01-01    3125.09           11\n",
      "25 2023-01-01    3166.03            3\n",
      "_____ Processando 02/2023... _____\n",
      "https://s3.amazonaws.com/tripdata/202302-citibike-tripdata.csv.zip\n",
      "Download iniciado...⏳\n",
      "Download concluído!👌\n",
      "Recuperando DataFrame do arquivo csv...💿\n",
      "--------------------------------\n",
      "        date station_id  users_count\n",
      "0 2023-02-01    2733.03            1\n",
      "1 2023-02-01    2821.05            1\n",
      "2 2023-02-01    2832.03            1\n",
      "3 2023-02-01    2883.03            3\n",
      "4 2023-02-01    2912.08            5\n",
      "         date station_id  users_count\n",
      "2  2023-02-01    2832.03            1\n",
      "4  2023-02-01    2912.08            5\n",
      "6  2023-02-01    2932.03            6\n",
      "12 2023-02-01    3011.03           12\n",
      "15 2023-02-01    3038.08            4\n",
      "\n",
      "✅ Concluído ✅\n"
     ]
    }
   ],
   "source": [
    "df_raw = sig.get_citibike_data(\"01/2023\", \"02/2023\")"
   ]
  },
  {
   "cell_type": "code",
   "execution_count": 4,
   "metadata": {},
   "outputs": [
    {
     "data": {
      "text/html": [
       "<div>\n",
       "<style scoped>\n",
       "    .dataframe tbody tr th:only-of-type {\n",
       "        vertical-align: middle;\n",
       "    }\n",
       "\n",
       "    .dataframe tbody tr th {\n",
       "        vertical-align: top;\n",
       "    }\n",
       "\n",
       "    .dataframe thead th {\n",
       "        text-align: right;\n",
       "    }\n",
       "</style>\n",
       "<table border=\"1\" class=\"dataframe\">\n",
       "  <thead>\n",
       "    <tr style=\"text-align: right;\">\n",
       "      <th></th>\n",
       "      <th>date</th>\n",
       "      <th>station_id</th>\n",
       "      <th>users_count</th>\n",
       "    </tr>\n",
       "  </thead>\n",
       "  <tbody>\n",
       "    <tr>\n",
       "      <th>0</th>\n",
       "      <td>2023-02-01</td>\n",
       "      <td>2832.03</td>\n",
       "      <td>1</td>\n",
       "    </tr>\n",
       "    <tr>\n",
       "      <th>1</th>\n",
       "      <td>2023-02-01</td>\n",
       "      <td>2912.08</td>\n",
       "      <td>5</td>\n",
       "    </tr>\n",
       "    <tr>\n",
       "      <th>2</th>\n",
       "      <td>2023-02-01</td>\n",
       "      <td>2932.03</td>\n",
       "      <td>6</td>\n",
       "    </tr>\n",
       "    <tr>\n",
       "      <th>3</th>\n",
       "      <td>2023-02-01</td>\n",
       "      <td>3011.03</td>\n",
       "      <td>12</td>\n",
       "    </tr>\n",
       "    <tr>\n",
       "      <th>4</th>\n",
       "      <td>2023-02-01</td>\n",
       "      <td>3038.08</td>\n",
       "      <td>4</td>\n",
       "    </tr>\n",
       "    <tr>\n",
       "      <th>...</th>\n",
       "      <td>...</td>\n",
       "      <td>...</td>\n",
       "      <td>...</td>\n",
       "    </tr>\n",
       "    <tr>\n",
       "      <th>121602</th>\n",
       "      <td>2023-01-31</td>\n",
       "      <td>8226.06</td>\n",
       "      <td>8</td>\n",
       "    </tr>\n",
       "    <tr>\n",
       "      <th>121603</th>\n",
       "      <td>2023-01-31</td>\n",
       "      <td>8226.07</td>\n",
       "      <td>5</td>\n",
       "    </tr>\n",
       "    <tr>\n",
       "      <th>121604</th>\n",
       "      <td>2023-01-31</td>\n",
       "      <td>8336.02</td>\n",
       "      <td>6</td>\n",
       "    </tr>\n",
       "    <tr>\n",
       "      <th>121605</th>\n",
       "      <td>2023-01-31</td>\n",
       "      <td>8511.08</td>\n",
       "      <td>1</td>\n",
       "    </tr>\n",
       "    <tr>\n",
       "      <th>121606</th>\n",
       "      <td>2023-01-31</td>\n",
       "      <td>8582.09</td>\n",
       "      <td>6</td>\n",
       "    </tr>\n",
       "  </tbody>\n",
       "</table>\n",
       "<p>121607 rows × 3 columns</p>\n",
       "</div>"
      ],
      "text/plain": [
       "             date station_id  users_count\n",
       "0      2023-02-01    2832.03            1\n",
       "1      2023-02-01    2912.08            5\n",
       "2      2023-02-01    2932.03            6\n",
       "3      2023-02-01    3011.03           12\n",
       "4      2023-02-01    3038.08            4\n",
       "...           ...        ...          ...\n",
       "121602 2023-01-31    8226.06            8\n",
       "121603 2023-01-31    8226.07            5\n",
       "121604 2023-01-31    8336.02            6\n",
       "121605 2023-01-31    8511.08            1\n",
       "121606 2023-01-31    8582.09            6\n",
       "\n",
       "[121607 rows x 3 columns]"
      ]
     },
     "execution_count": 4,
     "metadata": {},
     "output_type": "execute_result"
    }
   ],
   "source": [
    "df_raw"
   ]
  },
  {
   "cell_type": "code",
   "execution_count": null,
   "metadata": {},
   "outputs": [],
   "source": []
  }
 ],
 "metadata": {
  "kernelspec": {
   "display_name": ".venv",
   "language": "python",
   "name": "python3"
  },
  "language_info": {
   "codemirror_mode": {
    "name": "ipython",
    "version": 3
   },
   "file_extension": ".py",
   "mimetype": "text/x-python",
   "name": "python",
   "nbconvert_exporter": "python",
   "pygments_lexer": "ipython3",
   "version": "3.11.3"
  }
 },
 "nbformat": 4,
 "nbformat_minor": 2
}
